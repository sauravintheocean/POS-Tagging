{
 "cells": [
  {
   "cell_type": "markdown",
   "metadata": {},
   "source": [
    "<h5>We will explore the WSJ (wall street journal) POS-tagged corpus that comes with NLTK and build POS Taggers using following approaches: </h5> <ul><li>Lexicon based Tagger</li><li>Rule-based Tagger</li><li>Hidden Markov Model Tagger</li><li>RNN Tagger</li><li>LSTM Tagger</li><li>GRU Tagger</li><li>Bi-Directional LSTM tagger</li> </u1>"
   ]
  },
  {
   "cell_type": "markdown",
   "metadata": {},
   "source": [
    "### 1. Reading and understanding the tagged dataset"
   ]
  },
  {
   "cell_type": "code",
   "execution_count": 1,
   "metadata": {},
   "outputs": [],
   "source": [
    "# Importing libraries\n",
    "import nltk, re, pprint\n",
    "import numpy as np\n",
    "import pandas as pd\n",
    "import pprint, time\n",
    "import random\n",
    "from sklearn.model_selection import train_test_split\n",
    "from nltk.tokenize import word_tokenize\n",
    "import math\n",
    "import requests\n",
    "import matplotlib.pyplot as plt\n",
    "import seaborn as sns\n",
    "from gensim.models import KeyedVectors\n",
    "from tensorflow.keras.preprocessing.sequence import pad_sequences\n",
    "from tensorflow.keras.utils import to_categorical\n",
    "from tensorflow.keras.models import Sequential\n",
    "from tensorflow.keras.layers import Embedding\n",
    "from tensorflow.keras.layers import Dense, Input\n",
    "from tensorflow.keras.layers import TimeDistributed\n",
    "from tensorflow.keras.layers import LSTM, GRU, Bidirectional, SimpleRNN, RNN\n",
    "from tensorflow.keras.models import Model\n",
    "from tensorflow.keras.preprocessing.text import Tokenizer\n",
    "from sklearn.utils import shuffle"
   ]
  },
  {
   "cell_type": "code",
   "execution_count": 2,
   "metadata": {},
   "outputs": [],
   "source": [
    "# reading the Treebank tagged sentences\n",
    "wsj = list(nltk.corpus.treebank.tagged_sents())"
   ]
  },
  {
   "cell_type": "code",
   "execution_count": 3,
   "metadata": {
    "scrolled": true
   },
   "outputs": [
    {
     "data": {
      "text/plain": [
       "[[('Pierre', 'NNP'),\n",
       "  ('Vinken', 'NNP'),\n",
       "  (',', ','),\n",
       "  ('61', 'CD'),\n",
       "  ('years', 'NNS'),\n",
       "  ('old', 'JJ'),\n",
       "  (',', ','),\n",
       "  ('will', 'MD'),\n",
       "  ('join', 'VB'),\n",
       "  ('the', 'DT'),\n",
       "  ('board', 'NN'),\n",
       "  ('as', 'IN'),\n",
       "  ('a', 'DT'),\n",
       "  ('nonexecutive', 'JJ'),\n",
       "  ('director', 'NN'),\n",
       "  ('Nov.', 'NNP'),\n",
       "  ('29', 'CD'),\n",
       "  ('.', '.')],\n",
       " [('Mr.', 'NNP'),\n",
       "  ('Vinken', 'NNP'),\n",
       "  ('is', 'VBZ'),\n",
       "  ('chairman', 'NN'),\n",
       "  ('of', 'IN'),\n",
       "  ('Elsevier', 'NNP'),\n",
       "  ('N.V.', 'NNP'),\n",
       "  (',', ','),\n",
       "  ('the', 'DT'),\n",
       "  ('Dutch', 'NNP'),\n",
       "  ('publishing', 'VBG'),\n",
       "  ('group', 'NN'),\n",
       "  ('.', '.')],\n",
       " [('Rudolph', 'NNP'),\n",
       "  ('Agnew', 'NNP'),\n",
       "  (',', ','),\n",
       "  ('55', 'CD'),\n",
       "  ('years', 'NNS'),\n",
       "  ('old', 'JJ'),\n",
       "  ('and', 'CC'),\n",
       "  ('former', 'JJ'),\n",
       "  ('chairman', 'NN'),\n",
       "  ('of', 'IN'),\n",
       "  ('Consolidated', 'NNP'),\n",
       "  ('Gold', 'NNP'),\n",
       "  ('Fields', 'NNP'),\n",
       "  ('PLC', 'NNP'),\n",
       "  (',', ','),\n",
       "  ('was', 'VBD'),\n",
       "  ('named', 'VBN'),\n",
       "  ('*-1', '-NONE-'),\n",
       "  ('a', 'DT'),\n",
       "  ('nonexecutive', 'JJ'),\n",
       "  ('director', 'NN'),\n",
       "  ('of', 'IN'),\n",
       "  ('this', 'DT'),\n",
       "  ('British', 'JJ'),\n",
       "  ('industrial', 'JJ'),\n",
       "  ('conglomerate', 'NN'),\n",
       "  ('.', '.')]]"
      ]
     },
     "execution_count": 3,
     "metadata": {},
     "output_type": "execute_result"
    }
   ],
   "source": [
    "# samples: Each sentence is a list of (word, pos) tuples\n",
    "wsj[:3]"
   ]
  },
  {
   "cell_type": "markdown",
   "metadata": {},
   "source": [
    "In the list mentioned above, each element of the list is a sentence. Also, note that each sentence ends with a full stop '.' whose POS tag is also a '.'. Thus, the POS tag '.' demarcates the end of a sentence.\n",
    "\n",
    "Also, we do not need the corpus to be segmented into sentences, but can rather use a list of (word, tag) tuples. Let's convert the list into a (word, tag) tuple."
   ]
  },
  {
   "cell_type": "code",
   "execution_count": 4,
   "metadata": {},
   "outputs": [
    {
     "name": "stdout",
     "output_type": "stream",
     "text": [
      "100676\n"
     ]
    },
    {
     "data": {
      "text/plain": [
       "[('Pierre', 'NNP'),\n",
       " ('Vinken', 'NNP'),\n",
       " (',', ','),\n",
       " ('61', 'CD'),\n",
       " ('years', 'NNS'),\n",
       " ('old', 'JJ'),\n",
       " (',', ','),\n",
       " ('will', 'MD'),\n",
       " ('join', 'VB'),\n",
       " ('the', 'DT')]"
      ]
     },
     "execution_count": 4,
     "metadata": {},
     "output_type": "execute_result"
    }
   ],
   "source": [
    "# converting the list of sents to a list of (word, pos tag) tuples\n",
    "tagged_words = [tup for sent in wsj for tup in sent]\n",
    "print(len(tagged_words))\n",
    "tagged_words[:10]"
   ]
  },
  {
   "cell_type": "markdown",
   "metadata": {},
   "source": [
    "We now have a list of about 100676 (word, tag) tuples. Let's now do some exploratory analyses."
   ]
  },
  {
   "cell_type": "markdown",
   "metadata": {},
   "source": [
    "### 2. Exploratory Analysis\n",
    "\n",
    "Let's now conduct some basic exploratory analysis to understand the tagged corpus. To start with, let's ask some simple questions:\n",
    "1. How many unique tags are there in the corpus? \n",
    "2. Which is the most frequent tag in the corpus?\n",
    "3. Which tag is most commonly assigned to the following words:\n",
    "    - \"bank\"\n",
    "    - \"executive\"\n"
   ]
  },
  {
   "cell_type": "code",
   "execution_count": 5,
   "metadata": {},
   "outputs": [
    {
     "data": {
      "text/plain": [
       "46"
      ]
     },
     "execution_count": 5,
     "metadata": {},
     "output_type": "execute_result"
    }
   ],
   "source": [
    "# Find the number of unique POS tags in the corpus\n",
    "\n",
    "tags =  [tup[1] for tup in tagged_words]\n",
    "unique_tags = set(tags)\n",
    "len(unique_tags)"
   ]
  },
  {
   "cell_type": "code",
   "execution_count": 6,
   "metadata": {},
   "outputs": [
    {
     "data": {
      "text/plain": [
       "Counter({'NNP': 9410,\n",
       "         ',': 4886,\n",
       "         'CD': 3546,\n",
       "         'NNS': 6047,\n",
       "         'JJ': 5834,\n",
       "         'MD': 927,\n",
       "         'VB': 2554,\n",
       "         'DT': 8165,\n",
       "         'NN': 13166,\n",
       "         'IN': 9857,\n",
       "         '.': 3874,\n",
       "         'VBZ': 2125,\n",
       "         'VBG': 1460,\n",
       "         'CC': 2265,\n",
       "         'VBD': 3043,\n",
       "         'VBN': 2134,\n",
       "         '-NONE-': 6592,\n",
       "         'RB': 2822,\n",
       "         'TO': 2179,\n",
       "         'PRP': 1716,\n",
       "         'RBR': 136,\n",
       "         'WDT': 445,\n",
       "         'VBP': 1321,\n",
       "         'RP': 216,\n",
       "         'PRP$': 766,\n",
       "         'JJS': 182,\n",
       "         'POS': 824,\n",
       "         '``': 712,\n",
       "         'EX': 88,\n",
       "         \"''\": 694,\n",
       "         'WP': 241,\n",
       "         ':': 563,\n",
       "         'JJR': 381,\n",
       "         'WRB': 178,\n",
       "         '$': 724,\n",
       "         'NNPS': 244,\n",
       "         'WP$': 14,\n",
       "         '-LRB-': 120,\n",
       "         '-RRB-': 126,\n",
       "         'PDT': 27,\n",
       "         'RBS': 35,\n",
       "         'FW': 4,\n",
       "         'UH': 3,\n",
       "         'SYM': 1,\n",
       "         'LS': 13,\n",
       "         '#': 16})"
      ]
     },
     "execution_count": 6,
     "metadata": {},
     "output_type": "execute_result"
    }
   ],
   "source": [
    "# Which is the most frequent tag in the corpus ?\n",
    "\n",
    "from collections import Counter\n",
    "tag_counts = Counter(tags)\n",
    "tag_counts"
   ]
  },
  {
   "cell_type": "code",
   "execution_count": 7,
   "metadata": {},
   "outputs": [
    {
     "data": {
      "text/plain": [
       "[('NN', 13166), ('IN', 9857), ('NNP', 9410), ('DT', 8165), ('-NONE-', 6592)]"
      ]
     },
     "execution_count": 7,
     "metadata": {},
     "output_type": "execute_result"
    }
   ],
   "source": [
    "# the most common tags can be seen using the most_common() method of Counter\n",
    "tag_counts.most_common(5)"
   ]
  },
  {
   "cell_type": "markdown",
   "metadata": {},
   "source": [
    "Thus, NN is the most common tag followed by IN, NNP, DT, -NONE- etc. You can read the exhaustive list of tags using the NLTK documentation as shown below."
   ]
  },
  {
   "cell_type": "code",
   "execution_count": 8,
   "metadata": {
    "scrolled": false
   },
   "outputs": [
    {
     "name": "stdout",
     "output_type": "stream",
     "text": [
      "$: dollar\n",
      "    $ -$ --$ A$ C$ HK$ M$ NZ$ S$ U.S.$ US$\n",
      "'': closing quotation mark\n",
      "    ' ''\n",
      "(: opening parenthesis\n",
      "    ( [ {\n",
      "): closing parenthesis\n",
      "    ) ] }\n",
      ",: comma\n",
      "    ,\n",
      "--: dash\n",
      "    --\n",
      ".: sentence terminator\n",
      "    . ! ?\n",
      ":: colon or ellipsis\n",
      "    : ; ...\n",
      "CC: conjunction, coordinating\n",
      "    & 'n and both but either et for less minus neither nor or plus so\n",
      "    therefore times v. versus vs. whether yet\n",
      "CD: numeral, cardinal\n",
      "    mid-1890 nine-thirty forty-two one-tenth ten million 0.5 one forty-\n",
      "    seven 1987 twenty '79 zero two 78-degrees eighty-four IX '60s .025\n",
      "    fifteen 271,124 dozen quintillion DM2,000 ...\n",
      "DT: determiner\n",
      "    all an another any both del each either every half la many much nary\n",
      "    neither no some such that the them these this those\n",
      "EX: existential there\n",
      "    there\n",
      "FW: foreign word\n",
      "    gemeinschaft hund ich jeux habeas Haementeria Herr K'ang-si vous\n",
      "    lutihaw alai je jour objets salutaris fille quibusdam pas trop Monte\n",
      "    terram fiche oui corporis ...\n",
      "IN: preposition or conjunction, subordinating\n",
      "    astride among uppon whether out inside pro despite on by throughout\n",
      "    below within for towards near behind atop around if like until below\n",
      "    next into if beside ...\n",
      "JJ: adjective or numeral, ordinal\n",
      "    third ill-mannered pre-war regrettable oiled calamitous first separable\n",
      "    ectoplasmic battery-powered participatory fourth still-to-be-named\n",
      "    multilingual multi-disciplinary ...\n",
      "JJR: adjective, comparative\n",
      "    bleaker braver breezier briefer brighter brisker broader bumper busier\n",
      "    calmer cheaper choosier cleaner clearer closer colder commoner costlier\n",
      "    cozier creamier crunchier cuter ...\n",
      "JJS: adjective, superlative\n",
      "    calmest cheapest choicest classiest cleanest clearest closest commonest\n",
      "    corniest costliest crassest creepiest crudest cutest darkest deadliest\n",
      "    dearest deepest densest dinkiest ...\n",
      "LS: list item marker\n",
      "    A A. B B. C C. D E F First G H I J K One SP-44001 SP-44002 SP-44005\n",
      "    SP-44007 Second Third Three Two * a b c d first five four one six three\n",
      "    two\n",
      "MD: modal auxiliary\n",
      "    can cannot could couldn't dare may might must need ought shall should\n",
      "    shouldn't will would\n",
      "NN: noun, common, singular or mass\n",
      "    common-carrier cabbage knuckle-duster Casino afghan shed thermostat\n",
      "    investment slide humour falloff slick wind hyena override subhumanity\n",
      "    machinist ...\n",
      "NNP: noun, proper, singular\n",
      "    Motown Venneboerger Czestochwa Ranzer Conchita Trumplane Christos\n",
      "    Oceanside Escobar Kreisler Sawyer Cougar Yvette Ervin ODI Darryl CTCA\n",
      "    Shannon A.K.C. Meltex Liverpool ...\n",
      "NNPS: noun, proper, plural\n",
      "    Americans Americas Amharas Amityvilles Amusements Anarcho-Syndicalists\n",
      "    Andalusians Andes Andruses Angels Animals Anthony Antilles Antiques\n",
      "    Apache Apaches Apocrypha ...\n",
      "NNS: noun, common, plural\n",
      "    undergraduates scotches bric-a-brac products bodyguards facets coasts\n",
      "    divestitures storehouses designs clubs fragrances averages\n",
      "    subjectivists apprehensions muses factory-jobs ...\n",
      "PDT: pre-determiner\n",
      "    all both half many quite such sure this\n",
      "POS: genitive marker\n",
      "    ' 's\n",
      "PRP: pronoun, personal\n",
      "    hers herself him himself hisself it itself me myself one oneself ours\n",
      "    ourselves ownself self she thee theirs them themselves they thou thy us\n",
      "PRP$: pronoun, possessive\n",
      "    her his mine my our ours their thy your\n",
      "RB: adverb\n",
      "    occasionally unabatingly maddeningly adventurously professedly\n",
      "    stirringly prominently technologically magisterially predominately\n",
      "    swiftly fiscally pitilessly ...\n",
      "RBR: adverb, comparative\n",
      "    further gloomier grander graver greater grimmer harder harsher\n",
      "    healthier heavier higher however larger later leaner lengthier less-\n",
      "    perfectly lesser lonelier longer louder lower more ...\n",
      "RBS: adverb, superlative\n",
      "    best biggest bluntest earliest farthest first furthest hardest\n",
      "    heartiest highest largest least less most nearest second tightest worst\n",
      "RP: particle\n",
      "    aboard about across along apart around aside at away back before behind\n",
      "    by crop down ever fast for forth from go high i.e. in into just later\n",
      "    low more off on open out over per pie raising start teeth that through\n",
      "    under unto up up-pp upon whole with you\n",
      "SYM: symbol\n",
      "    % & ' '' ''. ) ). * + ,. < = > @ A[fj] U.S U.S.S.R * ** ***\n",
      "TO: \"to\" as preposition or infinitive marker\n",
      "    to\n",
      "UH: interjection\n",
      "    Goodbye Goody Gosh Wow Jeepers Jee-sus Hubba Hey Kee-reist Oops amen\n",
      "    huh howdy uh dammit whammo shucks heck anyways whodunnit honey golly\n",
      "    man baby diddle hush sonuvabitch ...\n",
      "VB: verb, base form\n",
      "    ask assemble assess assign assume atone attention avoid bake balkanize\n",
      "    bank begin behold believe bend benefit bevel beware bless boil bomb\n",
      "    boost brace break bring broil brush build ...\n",
      "VBD: verb, past tense\n",
      "    dipped pleaded swiped regummed soaked tidied convened halted registered\n",
      "    cushioned exacted snubbed strode aimed adopted belied figgered\n",
      "    speculated wore appreciated contemplated ...\n",
      "VBG: verb, present participle or gerund\n",
      "    telegraphing stirring focusing angering judging stalling lactating\n",
      "    hankerin' alleging veering capping approaching traveling besieging\n",
      "    encrypting interrupting erasing wincing ...\n",
      "VBN: verb, past participle\n",
      "    multihulled dilapidated aerosolized chaired languished panelized used\n",
      "    experimented flourished imitated reunifed factored condensed sheared\n",
      "    unsettled primed dubbed desired ...\n",
      "VBP: verb, present tense, not 3rd person singular\n",
      "    predominate wrap resort sue twist spill cure lengthen brush terminate\n",
      "    appear tend stray glisten obtain comprise detest tease attract\n",
      "    emphasize mold postpone sever return wag ...\n",
      "VBZ: verb, present tense, 3rd person singular\n",
      "    bases reconstructs marks mixes displeases seals carps weaves snatches\n",
      "    slumps stretches authorizes smolders pictures emerges stockpiles\n",
      "    seduces fizzes uses bolsters slaps speaks pleads ...\n",
      "WDT: WH-determiner\n",
      "    that what whatever which whichever\n",
      "WP: WH-pronoun\n",
      "    that what whatever whatsoever which who whom whosoever\n",
      "WP$: WH-pronoun, possessive\n",
      "    whose\n",
      "WRB: Wh-adverb\n",
      "    how however whence whenever where whereby whereever wherein whereof why\n",
      "``: opening quotation mark\n",
      "    ` ``\n"
     ]
    }
   ],
   "source": [
    "# list of POS tags in NLTK\n",
    "nltk.help.upenn_tagset()"
   ]
  },
  {
   "cell_type": "code",
   "execution_count": 9,
   "metadata": {},
   "outputs": [
    {
     "data": {
      "text/plain": [
       "Counter({'NN': 38})"
      ]
     },
     "execution_count": 9,
     "metadata": {},
     "output_type": "execute_result"
    }
   ],
   "source": [
    "# Which tag is most commonly assigned to the word 'bank'? \n",
    "bank = Counter([tup[1] for tup in tagged_words if tup[0] == 'bank'])\n",
    "bank"
   ]
  },
  {
   "cell_type": "code",
   "execution_count": 10,
   "metadata": {},
   "outputs": [
    {
     "data": {
      "text/plain": [
       "Counter({'NN': 40, 'JJ': 28})"
      ]
     },
     "execution_count": 10,
     "metadata": {},
     "output_type": "execute_result"
    }
   ],
   "source": [
    "# Which tag is most commonly assigned to the word 'executive'?\n",
    "executive = Counter([tup[1] for tup in tagged_words if tup[0] == 'executive'])\n",
    "executive"
   ]
  },
  {
   "cell_type": "markdown",
   "metadata": {},
   "source": [
    "### 2. Exploratory Analysis Contd.\n",
    "\n",
    "Until now, we were looking at the frequency of tags assigned to particular words, which is the basic idea used by lexicon or unigram taggers. Let's now try observing some rules which can potentially be used for POS tagging. \n",
    "\n",
    "To start with, let's see if the following questions reveal something useful:\n",
    "\n",
    "4. What fraction of words with the tag 'VBD' (verb, past tense) end with the letters 'ed'\n",
    "5. What fraction of words with the tag 'VBG' (verb, present participle/gerund) end with the letters 'ing'"
   ]
  },
  {
   "cell_type": "code",
   "execution_count": 11,
   "metadata": {},
   "outputs": [
    {
     "name": "stdout",
     "output_type": "stream",
     "text": [
      "0.3881038448899113\n"
     ]
    },
    {
     "data": {
      "text/plain": [
       "['reported',\n",
       " 'stopped',\n",
       " 'studied',\n",
       " 'led',\n",
       " 'worked',\n",
       " 'explained',\n",
       " 'imposed',\n",
       " 'dumped',\n",
       " 'poured',\n",
       " 'mixed',\n",
       " 'described',\n",
       " 'ventilated',\n",
       " 'contracted',\n",
       " 'continued',\n",
       " 'eased',\n",
       " 'ended',\n",
       " 'lengthened',\n",
       " 'reached',\n",
       " 'resigned',\n",
       " 'approved']"
      ]
     },
     "execution_count": 11,
     "metadata": {},
     "output_type": "execute_result"
    }
   ],
   "source": [
    "# How many words with the tag 'VBD' (verb, past tense) end with 'ed'\n",
    "\n",
    "# first get the all the words tagged as VBD\n",
    "past_tense_verbs = [tup[0] for tup in tagged_words if tup[1] =='VBD']\n",
    "\n",
    "# subset the past tense verbs with words ending with 'ed'.\n",
    "ed_verbs = [word for word in past_tense_verbs if word[-2:] == 'ed']\n",
    "print(len(ed_verbs) / len(past_tense_verbs))\n",
    "ed_verbs[:20]"
   ]
  },
  {
   "cell_type": "code",
   "execution_count": 12,
   "metadata": {},
   "outputs": [
    {
     "name": "stdout",
     "output_type": "stream",
     "text": [
      "0.9972602739726028\n"
     ]
    },
    {
     "data": {
      "text/plain": [
       "['publishing',\n",
       " 'causing',\n",
       " 'using',\n",
       " 'talking',\n",
       " 'having',\n",
       " 'making',\n",
       " 'surviving',\n",
       " 'including',\n",
       " 'including',\n",
       " 'according',\n",
       " 'remaining',\n",
       " 'according',\n",
       " 'declining',\n",
       " 'rising',\n",
       " 'yielding',\n",
       " 'waiving',\n",
       " 'holding',\n",
       " 'holding',\n",
       " 'cutting',\n",
       " 'manufacturing']"
      ]
     },
     "execution_count": 12,
     "metadata": {},
     "output_type": "execute_result"
    }
   ],
   "source": [
    "# How many words with the tag 'VBG' end with 'ing'?\n",
    "participle_verbs = [tup[0] for tup in tagged_words if tup[1] =='VBG']\n",
    "ing_verbs = [word for word in participle_verbs if word[-3:] == 'ing']\n",
    "print(len(ing_verbs) / len(participle_verbs))\n",
    "ing_verbs[:20]"
   ]
  },
  {
   "cell_type": "markdown",
   "metadata": {},
   "source": [
    "## 2. Exploratory Analysis Continued\n",
    "\n",
    "Let's now try observing some tag patterns using the fact the some tags are more likely to apper after certain other tags. For e.g. most nouns NN are usually followed by determiners DT (\"The/DT constitution/NN\"), adjectives JJ usually precede a noun NN (\" A large/JJ building/NN\"), etc. \n",
    "\n",
    "Try answering the following questions:\n",
    "1. What fraction of adjectives JJ are followed by a noun NN? \n",
    "2. What fraction of determiners DT are followed by a noun NN?\n",
    "3. What fraction of modals MD are followed by a verb VB?"
   ]
  },
  {
   "cell_type": "code",
   "execution_count": 13,
   "metadata": {},
   "outputs": [
    {
     "name": "stdout",
     "output_type": "stream",
     "text": [
      "5834\n",
      "2611\n",
      "0.4475488515598217\n"
     ]
    }
   ],
   "source": [
    "# What fraction of adjectives JJ are followed by a noun NN?\n",
    "\n",
    "# create a list of all tags (without the words)\n",
    "tags = [tup[1] for tup in tagged_words]\n",
    "\n",
    "\n",
    "# create a list of JJ tags\n",
    "jj_tags = [tag for tag in tags if tag == 'JJ']\n",
    "\n",
    "# create a list of (JJ, NN) tags\n",
    "jj_nn_tags = [(t, tags[index+1]) for index, t in enumerate(tags) \n",
    "              if tags[index] == 'JJ' and tags[index + 1] == 'NN']\n",
    "\n",
    "print(len(jj_tags))\n",
    "print(len(jj_nn_tags))\n",
    "print(len(jj_nn_tags) / len(jj_tags))"
   ]
  },
  {
   "cell_type": "code",
   "execution_count": 14,
   "metadata": {},
   "outputs": [
    {
     "name": "stdout",
     "output_type": "stream",
     "text": [
      "8165\n",
      "3844\n",
      "0.470789957134109\n"
     ]
    }
   ],
   "source": [
    "# What fraction of determiners DT are followed by a noun NN?\n",
    "dt_tags = [tag for tag in tags if tag == 'DT']\n",
    "dt_nn_tags = [(t, tags[index+1]) for index, t in enumerate(tags) \n",
    "              if tags[index] == 'DT' and tags[index + 1] == 'NN']\n",
    "\n",
    "print(len(dt_tags))\n",
    "print(len(dt_nn_tags))\n",
    "print(len(dt_nn_tags) / len(dt_tags))"
   ]
  },
  {
   "cell_type": "code",
   "execution_count": 15,
   "metadata": {},
   "outputs": [
    {
     "name": "stdout",
     "output_type": "stream",
     "text": [
      "927\n",
      "756\n",
      "0.8155339805825242\n"
     ]
    }
   ],
   "source": [
    "# What fraction of modals MD are followed by a verb VB?\n",
    "md_tags = [tag for tag in tags if tag == 'MD']\n",
    "md_vb_tags = [(t, tags[index+1]) for index, t in enumerate(tags) \n",
    "              if tags[index] == 'MD' and tags[index + 1] == 'VB']\n",
    "\n",
    "print(len(md_tags))\n",
    "print(len(md_vb_tags))\n",
    "print(len(md_vb_tags) / len(md_tags))"
   ]
  },
  {
   "cell_type": "markdown",
   "metadata": {},
   "source": [
    "## 3. Lexicon, Rule-Based, HMM, Deep Learning Models for POS Tagging\n",
    "\n",
    "Let's now see lexicon, rule-based, and HMM, Deep Learning models for POS tagging.\n",
    "We'll first split the corpus into training and test sets and then use built-in NLTK taggers."
   ]
  },
  {
   "cell_type": "markdown",
   "metadata": {},
   "source": [
    "## 3.1 Splitting into Train and Test Sets"
   ]
  },
  {
   "cell_type": "code",
   "execution_count": 16,
   "metadata": {
    "scrolled": true
   },
   "outputs": [
    {
     "name": "stdout",
     "output_type": "stream",
     "text": [
      "3131\n",
      "783\n",
      "[[('A', 'DT'), ('shift', 'NN'), ('to', 'TO'), ('*', '-NONE-'), ('producing', 'VBG'), ('more', 'JJR'), ('alcohol', 'NN'), ('and', 'CC'), ('less', 'JJR'), ('sugar', 'NN'), ('had', 'VBD'), ('been', 'VBN'), ('expected', 'VBN'), ('*-1', '-NONE-'), (',', ','), ('but', 'CC'), ('the', 'DT'), ('latest', 'JJS'), ('news', 'NN'), (',', ','), ('if', 'IN'), ('true', 'JJ'), (',', ','), ('indicates', 'VBZ'), ('a', 'DT'), ('more', 'RBR'), ('drastic', 'JJ'), ('shift', 'NN'), ('0', '-NONE-'), ('than', 'IN'), ('*T*-2', '-NONE-'), ('had', 'VBD'), ('been', 'VBN'), ('anticipated', 'VBN'), ('*-3', '-NONE-'), ('.', '.')], [('Still', 'RB'), (',', ','), ('bankers', 'NNS'), ('expect', 'VBP'), ('packaging', 'NN'), ('to', 'TO'), ('flourish', 'VB'), (',', ','), ('primarily', 'RB'), ('because', 'IN'), ('more', 'JJR'), ('customers', 'NNS'), ('are', 'VBP'), ('demanding', 'VBG'), ('that', 'IN'), ('financial', 'JJ'), ('services', 'NNS'), ('be', 'VB'), ('tailored', 'VBN'), ('*-124', '-NONE-'), ('to', 'TO'), ('their', 'PRP$'), ('needs', 'NNS'), ('.', '.')]]\n"
     ]
    }
   ],
   "source": [
    "## 3.1 Splitting into train and test\n",
    "random.seed(1234)\n",
    "train_set, test_set = train_test_split(wsj, test_size=0.2)\n",
    "\n",
    "print(len(train_set))\n",
    "print(len(test_set))\n",
    "print(train_set[:2])"
   ]
  },
  {
   "cell_type": "code",
   "execution_count": null,
   "metadata": {},
   "outputs": [],
   "source": [
    "accuracy = defaultdict()"
   ]
  },
  {
   "cell_type": "markdown",
   "metadata": {},
   "source": [
    "## 3.2 Lexicon(Unigram) Tagger\n",
    "\n",
    "Let's now try training a lexicon(or a unigram) tagger which assigns the most commonly assigned tag to a word.\n",
    "\n",
    "In NLTK, the <b>UnigramTagger()</b> can be used to train such a model."
   ]
  },
  {
   "cell_type": "code",
   "execution_count": 97,
   "metadata": {},
   "outputs": [
    {
     "data": {
      "text/plain": [
       "0.8835244119391183"
      ]
     },
     "execution_count": 97,
     "metadata": {},
     "output_type": "execute_result"
    }
   ],
   "source": [
    "# Lexicon (or unigram tagger)\n",
    "unigram_tagger = nltk.UnigramTagger(train_set)\n",
    "unigram_tagger.evaluate(test_set)"
   ]
  },
  {
   "cell_type": "markdown",
   "metadata": {},
   "source": [
    "Even a simple unigram tagger seems to perform fairly well."
   ]
  },
  {
   "cell_type": "code",
   "execution_count": 18,
   "metadata": {},
   "outputs": [
    {
     "data": {
      "text/plain": [
       "0.1610990314291362"
      ]
     },
     "execution_count": 18,
     "metadata": {},
     "output_type": "execute_result"
    }
   ],
   "source": [
    "# Bigram Tagger\n",
    "bigram_tagger = nltk.BigramTagger(train_set)\n",
    "bigram_tagger.evaluate(test_set)"
   ]
  },
  {
   "cell_type": "markdown",
   "metadata": {},
   "source": [
    "## 3.3 Rule-Based (Regular Expression) Tagger\n",
    "\n",
    "Now let's build a rule-based, or regular expression based tagger. In NLTK, the <b>RegexpTagger</b> can be provided with handwritten regular expression patterns, as shown below.\n",
    "\n",
    "In the example below, we specify regexes for gerunds and past tense verbs(as seen above), 3rd singular present verb(creates, moves, makes etc.), modal verbs MD(should, would, could), posessive nouns(partner's, bank's etc.), plural nouns(banks, institutions), cardinal numbers CD and finally, if none of the above are applicable to a word, we tag the most frequent tag NN."
   ]
  },
  {
   "cell_type": "code",
   "execution_count": 19,
   "metadata": {},
   "outputs": [],
   "source": [
    "# Specify patterns for tagging\n",
    "# example from the NLTK book\n",
    "patterns = [\n",
    "    (r'.*ing$', 'VBG'),             # gerund\n",
    "    (r'.*ed$', 'VBD'),              # past tense\n",
    "    (r'.*es$', 'VBZ'),              # 3rd singular present\n",
    "    (r'.*ould$', 'MD'),             # modals\n",
    "    (r'.*\\'s$', 'NN$'),             # posessive nouns\n",
    "    (r'.*s$', 'NNS'),               # plural nouns\n",
    "    (r'^-?[0-9]+(.[0-9]+)?$', 'CD'),# cardinal numbers\n",
    "    (r'.*', 'NN')                   # nouns\n",
    "]"
   ]
  },
  {
   "cell_type": "code",
   "execution_count": 20,
   "metadata": {},
   "outputs": [],
   "source": [
    "regex_tagger = nltk.RegexpTagger(patterns)"
   ]
  },
  {
   "cell_type": "code",
   "execution_count": 21,
   "metadata": {},
   "outputs": [
    {
     "data": {
      "text/plain": [
       "0.21837319628385057"
      ]
     },
     "execution_count": 21,
     "metadata": {},
     "output_type": "execute_result"
    }
   ],
   "source": [
    "regex_tagger.evaluate(test_set)"
   ]
  },
  {
   "cell_type": "markdown",
   "metadata": {},
   "source": [
    "The reason for low accuracy can be ascribed to a handful of rules that we have defined."
   ]
  },
  {
   "cell_type": "markdown",
   "metadata": {},
   "source": [
    "## 3.4 Combining Bigram, Unigram, and Rule based Taggers\n",
    "\n",
    "Let's now try combining the taggers created above. We saw that the rule-based tagger by itself is quite ineffective since we've only written a handful of rules. However, if we could combine the lexicon and the rule-based tagger, we can potentially create a tagger much better than any of the individual ones.\n",
    "\n",
    "NLTK provides a convenient way to combine taggers using 'backup' argument. In the following code, we create a regex tagger which is used as a backup tagger to the lexicon tagger, i.e when the tagger is not able to tag using the lexicon(in case of a new word in the vocabulary), it uses the rule-based tagger.\n",
    "\n",
    "Also, note that the rule-based tagger itself is backed by the tag 'NN'."
   ]
  },
  {
   "cell_type": "code",
   "execution_count": 22,
   "metadata": {},
   "outputs": [
    {
     "data": {
      "text/plain": [
       "0.9212294919944654"
      ]
     },
     "execution_count": 22,
     "metadata": {},
     "output_type": "execute_result"
    }
   ],
   "source": [
    "# rule based tagger\n",
    "rule_based_tagger = nltk.RegexpTagger(patterns)\n",
    "\n",
    "# lexicon/unigram backed up by the rule-based tagger\n",
    "lexicon_tagger = nltk.UnigramTagger(train_set, backoff=rule_based_tagger)\n",
    "\n",
    "# bigram \n",
    "bigram_tagger = nltk.BigramTagger(train_set, backoff=lexicon_tagger)\n",
    "bigram_tagger.evaluate(test_set)"
   ]
  },
  {
   "cell_type": "markdown",
   "metadata": {},
   "source": [
    "We try to tag the word using Bigram Tagger. If it does not find two words in the same sequence it backs off to unigram. If the unigram is also not found(happens when the word is not present in the training corpus), then it will simply back off to a rule based tagger. Finally, rule-based tagger has a backing offing system which is simply the NN tag."
   ]
  },
  {
   "cell_type": "markdown",
   "metadata": {},
   "source": [
    "## 3.5. Hidden Markov Model Taggers\n",
    "\n",
    "We'll use the HMM algorithm to tag the words. Given a sequence of words to be tagged, the task is to assign the most probable tag to the word. \n",
    "\n",
    "In other words, to every word w, assign the tag t that maximises the likelihood P(t/w). Since P(t/w) = P(w/t). P(t) / P(w), after ignoring P(w), we have to compute P(w/t) and P(t).\n",
    "\n",
    "\n",
    "P(w/t) is basically the probability that given a tag (say NN), what is the probability of it being w (say 'building'). This can be computed by computing the fraction of all NNs which are equal to w, i.e. \n",
    "\n",
    "P(w/t) = count(w, t) / count(t). \n",
    "\n",
    "\n",
    "The term P(t) is the probability of tag t, and in a tagging task, we assume that a tag will depend only on the previous tag. In other words, the probability of a tag being NN will depend only on the previous tag t(n-1). So for e.g. if t(n-1) is a JJ, then t(n) is likely to be an NN since adjectives often precede a noun (blue coat, tall building etc.).\n",
    "\n",
    "\n",
    "Given the penn treebank tagged dataset, we can compute the two terms P(w/t) and P(t) and store them in two large matrices. The matrix of P(w/t) will be sparse, since each word will not be seen with most tags ever, and those terms will thus be zero. \n"
   ]
  },
  {
   "cell_type": "code",
   "execution_count": 23,
   "metadata": {},
   "outputs": [
    {
     "data": {
      "text/plain": [
       "80440"
      ]
     },
     "execution_count": 23,
     "metadata": {},
     "output_type": "execute_result"
    }
   ],
   "source": [
    "# Getting list of tagged words\n",
    "train_tagged_words = [tup for sent in train_set for tup in sent]\n",
    "len(train_tagged_words)"
   ]
  },
  {
   "cell_type": "code",
   "execution_count": 24,
   "metadata": {
    "scrolled": true
   },
   "outputs": [
    {
     "data": {
      "text/plain": [
       "['A',\n",
       " 'shift',\n",
       " 'to',\n",
       " '*',\n",
       " 'producing',\n",
       " 'more',\n",
       " 'alcohol',\n",
       " 'and',\n",
       " 'less',\n",
       " 'sugar']"
      ]
     },
     "execution_count": 24,
     "metadata": {},
     "output_type": "execute_result"
    }
   ],
   "source": [
    "# tokens \n",
    "tokens = [pair[0] for pair in train_tagged_words]\n",
    "tokens[:10]"
   ]
  },
  {
   "cell_type": "code",
   "execution_count": 25,
   "metadata": {},
   "outputs": [
    {
     "name": "stdout",
     "output_type": "stream",
     "text": [
      "11079\n"
     ]
    }
   ],
   "source": [
    "# vocabulary\n",
    "V = set(tokens)\n",
    "print(len(V))"
   ]
  },
  {
   "cell_type": "code",
   "execution_count": 26,
   "metadata": {},
   "outputs": [
    {
     "data": {
      "text/plain": [
       "46"
      ]
     },
     "execution_count": 26,
     "metadata": {},
     "output_type": "execute_result"
    }
   ],
   "source": [
    "# number of tags\n",
    "T = set([pair[1] for pair in train_tagged_words])\n",
    "len(T)"
   ]
  },
  {
   "cell_type": "code",
   "execution_count": 27,
   "metadata": {},
   "outputs": [
    {
     "name": "stdout",
     "output_type": "stream",
     "text": [
      "{'RP', ',', 'JJ', 'RB', 'CD', 'POS', '-NONE-', 'WP', 'VBD', '``', 'TO', 'WDT', 'EX', 'JJS', 'MD', 'NNS', 'VBG', 'PDT', \"''\", 'LS', 'CC', 'NN', 'PRP', 'DT', 'IN', 'NNP', 'SYM', 'WP$', 'NNPS', 'VBZ', 'VBN', '-LRB-', '#', 'PRP$', ':', '-RRB-', '.', 'VB', 'JJR', 'UH', 'RBS', 'WRB', 'VBP', '$', 'FW', 'RBR'}\n"
     ]
    }
   ],
   "source": [
    "print(T)"
   ]
  },
  {
   "cell_type": "markdown",
   "metadata": {},
   "source": [
    "### Emission Probabilities"
   ]
  },
  {
   "cell_type": "code",
   "execution_count": 28,
   "metadata": {
    "scrolled": true
   },
   "outputs": [],
   "source": [
    "# computing P(w/t) and storing in T x V matrix\n",
    "t = len(T)\n",
    "v = len(V)\n",
    "w_given_t = np.zeros((t, v))"
   ]
  },
  {
   "cell_type": "code",
   "execution_count": 29,
   "metadata": {},
   "outputs": [],
   "source": [
    "# compute word given tag: Emission Probability\n",
    "def word_given_tag(word, tag, train_bag = train_tagged_words):\n",
    "    tag_list = [pair for pair in train_bag if pair[1]==tag]\n",
    "    count_tag = len(tag_list)\n",
    "    w_given_tag_list = [pair[0] for pair in tag_list if pair[0]==word]\n",
    "    count_w_given_tag = len(w_given_tag_list)\n",
    "    \n",
    "    return (count_w_given_tag, count_tag)"
   ]
  },
  {
   "cell_type": "code",
   "execution_count": 30,
   "metadata": {
    "scrolled": true
   },
   "outputs": [
    {
     "name": "stdout",
     "output_type": "stream",
     "text": [
      "\n",
      " large\n",
      "(22, 4699)\n",
      "(0, 2044)\n",
      "(0, 10552) \n",
      "\n",
      "\n",
      " will\n",
      "(225, 756)\n",
      "(0, 10552)\n",
      "(0, 2044)\n",
      "\n",
      " book\n",
      "(4, 10552)\n",
      "(1, 2044)\n"
     ]
    }
   ],
   "source": [
    "# examples\n",
    "\n",
    "# large\n",
    "print(\"\\n\", \"large\")\n",
    "print(word_given_tag('large', 'JJ'))\n",
    "print(word_given_tag('large', 'VB'))\n",
    "print(word_given_tag('large', 'NN'), \"\\n\")\n",
    "\n",
    "# will\n",
    "print(\"\\n\", \"will\")\n",
    "print(word_given_tag('will', 'MD'))\n",
    "print(word_given_tag('will', 'NN'))\n",
    "print(word_given_tag('will', 'VB'))\n",
    "\n",
    "# book\n",
    "print(\"\\n\", \"book\")\n",
    "print(word_given_tag('book', 'NN'))\n",
    "print(word_given_tag('book', 'VB'))"
   ]
  },
  {
   "cell_type": "markdown",
   "metadata": {},
   "source": [
    "### Transition Probabilities"
   ]
  },
  {
   "cell_type": "code",
   "execution_count": 31,
   "metadata": {},
   "outputs": [],
   "source": [
    "# compute tag given tag: tag2(t2) given tag1 (t1), i.e. Transition Probability\n",
    "\n",
    "def t2_given_t1(t2, t1, train_bag = train_tagged_words):\n",
    "    tags = [pair[1] for pair in train_bag]\n",
    "    count_t1 = len([t for t in tags if t==t1])\n",
    "    count_t2_t1 = 0\n",
    "    for index in range(len(tags)-1):\n",
    "        if tags[index]==t1 and tags[index+1] == t2:\n",
    "            count_t2_t1 += 1\n",
    "    return (count_t2_t1, count_t1)"
   ]
  },
  {
   "cell_type": "code",
   "execution_count": 32,
   "metadata": {
    "scrolled": true
   },
   "outputs": [
    {
     "name": "stdout",
     "output_type": "stream",
     "text": [
      "(162, 4699)\n",
      "(2090, 4699)\n",
      "(3049, 6522)\n",
      "(69, 2044)\n",
      "(1109, 7422)\n",
      "(3, 1352)\n",
      "(6, 7422)\n"
     ]
    }
   ],
   "source": [
    "# examples\n",
    "print(t2_given_t1(t2='NNP', t1='JJ'))\n",
    "print(t2_given_t1('NN', 'JJ'))\n",
    "print(t2_given_t1('NN', 'DT'))\n",
    "print(t2_given_t1('NNP', 'VB'))\n",
    "print(t2_given_t1(',', 'NNP'))\n",
    "print(t2_given_t1('PRP', 'PRP'))\n",
    "print(t2_given_t1('VBG', 'NNP'))"
   ]
  },
  {
   "cell_type": "code",
   "execution_count": 33,
   "metadata": {},
   "outputs": [
    {
     "name": "stdout",
     "output_type": "stream",
     "text": [
      "(657, 3099)\n",
      "(14, 3099)\n",
      "(136, 3099)\n",
      "(547, 3099)\n"
     ]
    }
   ],
   "source": [
    "#Please note P(tag|start) is same as P(tag|'.')\n",
    "print(t2_given_t1('DT', '.'))\n",
    "print(t2_given_t1('VBG', '.'))\n",
    "print(t2_given_t1('NN', '.'))\n",
    "print(t2_given_t1('NNP', '.'))\n"
   ]
  },
  {
   "cell_type": "code",
   "execution_count": 34,
   "metadata": {
    "scrolled": true
   },
   "outputs": [],
   "source": [
    "# creating t x t transition matrix of tags\n",
    "# each column is t2, each row is t1\n",
    "# thus M(i, j) represents P(tj given ti)\n",
    "\n",
    "tags_matrix = np.zeros((len(T), len(T)), dtype='float32')\n",
    "for i, t1 in enumerate(list(T)):\n",
    "    for j, t2 in enumerate(list(T)): \n",
    "        tags_matrix[i, j] = t2_given_t1(t2, t1)[0]/t2_given_t1(t2, t1)[1]"
   ]
  },
  {
   "cell_type": "code",
   "execution_count": 35,
   "metadata": {
    "scrolled": true
   },
   "outputs": [
    {
     "data": {
      "text/plain": [
       "array([[0.0000000e+00, 2.9585799e-02, 5.3254437e-02, ..., 1.1834320e-02,\n",
       "        0.0000000e+00, 0.0000000e+00],\n",
       "       [0.0000000e+00, 0.0000000e+00, 4.1914620e-02, ..., 8.7968949e-03,\n",
       "        2.5873221e-04, 7.7619666e-04],\n",
       "       [2.1281124e-04, 2.6814215e-02, 6.5758675e-02, ..., 1.7024899e-03,\n",
       "        0.0000000e+00, 4.2562248e-04],\n",
       "       ...,\n",
       "       [0.0000000e+00, 0.0000000e+00, 1.2522361e-02, ..., 0.0000000e+00,\n",
       "        0.0000000e+00, 0.0000000e+00],\n",
       "       [0.0000000e+00, 0.0000000e+00, 0.0000000e+00, ..., 0.0000000e+00,\n",
       "        0.0000000e+00, 0.0000000e+00],\n",
       "       [0.0000000e+00, 1.7857144e-02, 4.0178570e-01, ..., 0.0000000e+00,\n",
       "        0.0000000e+00, 0.0000000e+00]], dtype=float32)"
      ]
     },
     "execution_count": 35,
     "metadata": {},
     "output_type": "execute_result"
    }
   ],
   "source": [
    "tags_matrix"
   ]
  },
  {
   "cell_type": "code",
   "execution_count": 36,
   "metadata": {},
   "outputs": [],
   "source": [
    "# convert the matrix to a df for better readability\n",
    "tags_df = pd.DataFrame(tags_matrix, columns = list(T), index=list(T))"
   ]
  },
  {
   "cell_type": "code",
   "execution_count": 37,
   "metadata": {
    "scrolled": true
   },
   "outputs": [
    {
     "data": {
      "text/html": [
       "<div>\n",
       "<style scoped>\n",
       "    .dataframe tbody tr th:only-of-type {\n",
       "        vertical-align: middle;\n",
       "    }\n",
       "\n",
       "    .dataframe tbody tr th {\n",
       "        vertical-align: top;\n",
       "    }\n",
       "\n",
       "    .dataframe thead th {\n",
       "        text-align: right;\n",
       "    }\n",
       "</style>\n",
       "<table border=\"1\" class=\"dataframe\">\n",
       "  <thead>\n",
       "    <tr style=\"text-align: right;\">\n",
       "      <th></th>\n",
       "      <th>RP</th>\n",
       "      <th>,</th>\n",
       "      <th>JJ</th>\n",
       "      <th>RB</th>\n",
       "      <th>CD</th>\n",
       "      <th>POS</th>\n",
       "      <th>-NONE-</th>\n",
       "      <th>WP</th>\n",
       "      <th>VBD</th>\n",
       "      <th>``</th>\n",
       "      <th>...</th>\n",
       "      <th>.</th>\n",
       "      <th>VB</th>\n",
       "      <th>JJR</th>\n",
       "      <th>UH</th>\n",
       "      <th>RBS</th>\n",
       "      <th>WRB</th>\n",
       "      <th>VBP</th>\n",
       "      <th>$</th>\n",
       "      <th>FW</th>\n",
       "      <th>RBR</th>\n",
       "    </tr>\n",
       "  </thead>\n",
       "  <tbody>\n",
       "    <tr>\n",
       "      <th>RP</th>\n",
       "      <td>0.000000</td>\n",
       "      <td>0.029586</td>\n",
       "      <td>0.053254</td>\n",
       "      <td>0.023669</td>\n",
       "      <td>0.011834</td>\n",
       "      <td>0.000000</td>\n",
       "      <td>0.118343</td>\n",
       "      <td>0.000000</td>\n",
       "      <td>0.000000</td>\n",
       "      <td>0.011834</td>\n",
       "      <td>...</td>\n",
       "      <td>0.029586</td>\n",
       "      <td>0.000000</td>\n",
       "      <td>0.011834</td>\n",
       "      <td>0.000000</td>\n",
       "      <td>0.000000</td>\n",
       "      <td>0.000000</td>\n",
       "      <td>0.000000</td>\n",
       "      <td>0.011834</td>\n",
       "      <td>0.000000</td>\n",
       "      <td>0.000000</td>\n",
       "    </tr>\n",
       "    <tr>\n",
       "      <th>,</th>\n",
       "      <td>0.000000</td>\n",
       "      <td>0.000000</td>\n",
       "      <td>0.041915</td>\n",
       "      <td>0.058732</td>\n",
       "      <td>0.025356</td>\n",
       "      <td>0.000000</td>\n",
       "      <td>0.033894</td>\n",
       "      <td>0.011125</td>\n",
       "      <td>0.052005</td>\n",
       "      <td>0.014230</td>\n",
       "      <td>...</td>\n",
       "      <td>0.000000</td>\n",
       "      <td>0.003105</td>\n",
       "      <td>0.001552</td>\n",
       "      <td>0.000000</td>\n",
       "      <td>0.000776</td>\n",
       "      <td>0.008538</td>\n",
       "      <td>0.008797</td>\n",
       "      <td>0.008797</td>\n",
       "      <td>0.000259</td>\n",
       "      <td>0.000776</td>\n",
       "    </tr>\n",
       "    <tr>\n",
       "      <th>JJ</th>\n",
       "      <td>0.000213</td>\n",
       "      <td>0.026814</td>\n",
       "      <td>0.065759</td>\n",
       "      <td>0.001915</td>\n",
       "      <td>0.021707</td>\n",
       "      <td>0.000000</td>\n",
       "      <td>0.020643</td>\n",
       "      <td>0.000213</td>\n",
       "      <td>0.000851</td>\n",
       "      <td>0.002128</td>\n",
       "      <td>...</td>\n",
       "      <td>0.021707</td>\n",
       "      <td>0.000000</td>\n",
       "      <td>0.000638</td>\n",
       "      <td>0.000000</td>\n",
       "      <td>0.000000</td>\n",
       "      <td>0.001064</td>\n",
       "      <td>0.000851</td>\n",
       "      <td>0.001702</td>\n",
       "      <td>0.000000</td>\n",
       "      <td>0.000426</td>\n",
       "    </tr>\n",
       "    <tr>\n",
       "      <th>RB</th>\n",
       "      <td>0.000000</td>\n",
       "      <td>0.090707</td>\n",
       "      <td>0.096043</td>\n",
       "      <td>0.070253</td>\n",
       "      <td>0.036016</td>\n",
       "      <td>0.000000</td>\n",
       "      <td>0.019120</td>\n",
       "      <td>0.001334</td>\n",
       "      <td>0.063584</td>\n",
       "      <td>0.001779</td>\n",
       "      <td>...</td>\n",
       "      <td>0.039573</td>\n",
       "      <td>0.103157</td>\n",
       "      <td>0.015562</td>\n",
       "      <td>0.000000</td>\n",
       "      <td>0.000000</td>\n",
       "      <td>0.001334</td>\n",
       "      <td>0.031125</td>\n",
       "      <td>0.008004</td>\n",
       "      <td>0.000000</td>\n",
       "      <td>0.007559</td>\n",
       "    </tr>\n",
       "    <tr>\n",
       "      <th>CD</th>\n",
       "      <td>0.000000</td>\n",
       "      <td>0.060159</td>\n",
       "      <td>0.031340</td>\n",
       "      <td>0.001801</td>\n",
       "      <td>0.184798</td>\n",
       "      <td>0.001081</td>\n",
       "      <td>0.210014</td>\n",
       "      <td>0.000360</td>\n",
       "      <td>0.005764</td>\n",
       "      <td>0.000000</td>\n",
       "      <td>...</td>\n",
       "      <td>0.047190</td>\n",
       "      <td>0.000000</td>\n",
       "      <td>0.001081</td>\n",
       "      <td>0.000000</td>\n",
       "      <td>0.000000</td>\n",
       "      <td>0.000360</td>\n",
       "      <td>0.003602</td>\n",
       "      <td>0.000000</td>\n",
       "      <td>0.000000</td>\n",
       "      <td>0.000720</td>\n",
       "    </tr>\n",
       "    <tr>\n",
       "      <th>POS</th>\n",
       "      <td>0.000000</td>\n",
       "      <td>0.007587</td>\n",
       "      <td>0.195751</td>\n",
       "      <td>0.003035</td>\n",
       "      <td>0.021244</td>\n",
       "      <td>0.000000</td>\n",
       "      <td>0.000000</td>\n",
       "      <td>0.000000</td>\n",
       "      <td>0.009105</td>\n",
       "      <td>0.007587</td>\n",
       "      <td>...</td>\n",
       "      <td>0.012140</td>\n",
       "      <td>0.000000</td>\n",
       "      <td>0.003035</td>\n",
       "      <td>0.000000</td>\n",
       "      <td>0.003035</td>\n",
       "      <td>0.000000</td>\n",
       "      <td>0.000000</td>\n",
       "      <td>0.007587</td>\n",
       "      <td>0.000000</td>\n",
       "      <td>0.000000</td>\n",
       "    </tr>\n",
       "    <tr>\n",
       "      <th>-NONE-</th>\n",
       "      <td>0.001334</td>\n",
       "      <td>0.051077</td>\n",
       "      <td>0.014675</td>\n",
       "      <td>0.023633</td>\n",
       "      <td>0.002859</td>\n",
       "      <td>0.000191</td>\n",
       "      <td>0.075281</td>\n",
       "      <td>0.000191</td>\n",
       "      <td>0.031065</td>\n",
       "      <td>0.002096</td>\n",
       "      <td>...</td>\n",
       "      <td>0.092624</td>\n",
       "      <td>0.009148</td>\n",
       "      <td>0.001906</td>\n",
       "      <td>0.000000</td>\n",
       "      <td>0.000191</td>\n",
       "      <td>0.000762</td>\n",
       "      <td>0.022489</td>\n",
       "      <td>0.002478</td>\n",
       "      <td>0.000000</td>\n",
       "      <td>0.001144</td>\n",
       "    </tr>\n",
       "    <tr>\n",
       "      <th>WP</th>\n",
       "      <td>0.000000</td>\n",
       "      <td>0.005405</td>\n",
       "      <td>0.000000</td>\n",
       "      <td>0.016216</td>\n",
       "      <td>0.005405</td>\n",
       "      <td>0.000000</td>\n",
       "      <td>0.800000</td>\n",
       "      <td>0.000000</td>\n",
       "      <td>0.000000</td>\n",
       "      <td>0.000000</td>\n",
       "      <td>...</td>\n",
       "      <td>0.000000</td>\n",
       "      <td>0.000000</td>\n",
       "      <td>0.000000</td>\n",
       "      <td>0.000000</td>\n",
       "      <td>0.000000</td>\n",
       "      <td>0.000000</td>\n",
       "      <td>0.000000</td>\n",
       "      <td>0.000000</td>\n",
       "      <td>0.000000</td>\n",
       "      <td>0.000000</td>\n",
       "    </tr>\n",
       "    <tr>\n",
       "      <th>VBD</th>\n",
       "      <td>0.013676</td>\n",
       "      <td>0.010361</td>\n",
       "      <td>0.045586</td>\n",
       "      <td>0.077082</td>\n",
       "      <td>0.050145</td>\n",
       "      <td>0.000000</td>\n",
       "      <td>0.271032</td>\n",
       "      <td>0.000414</td>\n",
       "      <td>0.000000</td>\n",
       "      <td>0.004144</td>\n",
       "      <td>...</td>\n",
       "      <td>0.007460</td>\n",
       "      <td>0.001243</td>\n",
       "      <td>0.007460</td>\n",
       "      <td>0.000414</td>\n",
       "      <td>0.000000</td>\n",
       "      <td>0.001658</td>\n",
       "      <td>0.000000</td>\n",
       "      <td>0.013676</td>\n",
       "      <td>0.000000</td>\n",
       "      <td>0.002487</td>\n",
       "    </tr>\n",
       "    <tr>\n",
       "      <th>``</th>\n",
       "      <td>0.000000</td>\n",
       "      <td>0.000000</td>\n",
       "      <td>0.109185</td>\n",
       "      <td>0.077990</td>\n",
       "      <td>0.001733</td>\n",
       "      <td>0.000000</td>\n",
       "      <td>0.032929</td>\n",
       "      <td>0.008666</td>\n",
       "      <td>0.006932</td>\n",
       "      <td>0.000000</td>\n",
       "      <td>...</td>\n",
       "      <td>0.000000</td>\n",
       "      <td>0.012132</td>\n",
       "      <td>0.001733</td>\n",
       "      <td>0.000000</td>\n",
       "      <td>0.000000</td>\n",
       "      <td>0.010399</td>\n",
       "      <td>0.013865</td>\n",
       "      <td>0.000000</td>\n",
       "      <td>0.000000</td>\n",
       "      <td>0.000000</td>\n",
       "    </tr>\n",
       "    <tr>\n",
       "      <th>TO</th>\n",
       "      <td>0.000000</td>\n",
       "      <td>0.000000</td>\n",
       "      <td>0.028235</td>\n",
       "      <td>0.007647</td>\n",
       "      <td>0.074706</td>\n",
       "      <td>0.000000</td>\n",
       "      <td>0.008824</td>\n",
       "      <td>0.000000</td>\n",
       "      <td>0.000000</td>\n",
       "      <td>0.004118</td>\n",
       "      <td>...</td>\n",
       "      <td>0.000000</td>\n",
       "      <td>0.581176</td>\n",
       "      <td>0.004706</td>\n",
       "      <td>0.000000</td>\n",
       "      <td>0.000000</td>\n",
       "      <td>0.000000</td>\n",
       "      <td>0.000000</td>\n",
       "      <td>0.035882</td>\n",
       "      <td>0.000000</td>\n",
       "      <td>0.001176</td>\n",
       "    </tr>\n",
       "    <tr>\n",
       "      <th>WDT</th>\n",
       "      <td>0.000000</td>\n",
       "      <td>0.000000</td>\n",
       "      <td>0.011494</td>\n",
       "      <td>0.002874</td>\n",
       "      <td>0.005747</td>\n",
       "      <td>0.000000</td>\n",
       "      <td>0.859195</td>\n",
       "      <td>0.000000</td>\n",
       "      <td>0.002874</td>\n",
       "      <td>0.005747</td>\n",
       "      <td>...</td>\n",
       "      <td>0.000000</td>\n",
       "      <td>0.000000</td>\n",
       "      <td>0.000000</td>\n",
       "      <td>0.000000</td>\n",
       "      <td>0.000000</td>\n",
       "      <td>0.000000</td>\n",
       "      <td>0.000000</td>\n",
       "      <td>0.000000</td>\n",
       "      <td>0.000000</td>\n",
       "      <td>0.000000</td>\n",
       "    </tr>\n",
       "    <tr>\n",
       "      <th>EX</th>\n",
       "      <td>0.000000</td>\n",
       "      <td>0.000000</td>\n",
       "      <td>0.000000</td>\n",
       "      <td>0.027778</td>\n",
       "      <td>0.000000</td>\n",
       "      <td>0.000000</td>\n",
       "      <td>0.000000</td>\n",
       "      <td>0.000000</td>\n",
       "      <td>0.125000</td>\n",
       "      <td>0.000000</td>\n",
       "      <td>...</td>\n",
       "      <td>0.000000</td>\n",
       "      <td>0.000000</td>\n",
       "      <td>0.000000</td>\n",
       "      <td>0.000000</td>\n",
       "      <td>0.000000</td>\n",
       "      <td>0.000000</td>\n",
       "      <td>0.208333</td>\n",
       "      <td>0.000000</td>\n",
       "      <td>0.000000</td>\n",
       "      <td>0.000000</td>\n",
       "    </tr>\n",
       "    <tr>\n",
       "      <th>JJS</th>\n",
       "      <td>0.000000</td>\n",
       "      <td>0.020690</td>\n",
       "      <td>0.137931</td>\n",
       "      <td>0.013793</td>\n",
       "      <td>0.048276</td>\n",
       "      <td>0.000000</td>\n",
       "      <td>0.013793</td>\n",
       "      <td>0.000000</td>\n",
       "      <td>0.006897</td>\n",
       "      <td>0.000000</td>\n",
       "      <td>...</td>\n",
       "      <td>0.027586</td>\n",
       "      <td>0.013793</td>\n",
       "      <td>0.000000</td>\n",
       "      <td>0.000000</td>\n",
       "      <td>0.000000</td>\n",
       "      <td>0.000000</td>\n",
       "      <td>0.006897</td>\n",
       "      <td>0.013793</td>\n",
       "      <td>0.000000</td>\n",
       "      <td>0.000000</td>\n",
       "    </tr>\n",
       "    <tr>\n",
       "      <th>MD</th>\n",
       "      <td>0.000000</td>\n",
       "      <td>0.003968</td>\n",
       "      <td>0.000000</td>\n",
       "      <td>0.158730</td>\n",
       "      <td>0.000000</td>\n",
       "      <td>0.000000</td>\n",
       "      <td>0.005291</td>\n",
       "      <td>0.000000</td>\n",
       "      <td>0.000000</td>\n",
       "      <td>0.002646</td>\n",
       "      <td>...</td>\n",
       "      <td>0.000000</td>\n",
       "      <td>0.820106</td>\n",
       "      <td>0.000000</td>\n",
       "      <td>0.000000</td>\n",
       "      <td>0.000000</td>\n",
       "      <td>0.000000</td>\n",
       "      <td>0.000000</td>\n",
       "      <td>0.000000</td>\n",
       "      <td>0.000000</td>\n",
       "      <td>0.001323</td>\n",
       "    </tr>\n",
       "    <tr>\n",
       "      <th>NNS</th>\n",
       "      <td>0.000204</td>\n",
       "      <td>0.121126</td>\n",
       "      <td>0.017741</td>\n",
       "      <td>0.024266</td>\n",
       "      <td>0.001835</td>\n",
       "      <td>0.009584</td>\n",
       "      <td>0.040783</td>\n",
       "      <td>0.008768</td>\n",
       "      <td>0.073409</td>\n",
       "      <td>0.001223</td>\n",
       "      <td>...</td>\n",
       "      <td>0.121737</td>\n",
       "      <td>0.003670</td>\n",
       "      <td>0.002447</td>\n",
       "      <td>0.000000</td>\n",
       "      <td>0.000204</td>\n",
       "      <td>0.002651</td>\n",
       "      <td>0.088295</td>\n",
       "      <td>0.000408</td>\n",
       "      <td>0.000000</td>\n",
       "      <td>0.001427</td>\n",
       "    </tr>\n",
       "    <tr>\n",
       "      <th>VBG</th>\n",
       "      <td>0.016007</td>\n",
       "      <td>0.017692</td>\n",
       "      <td>0.065712</td>\n",
       "      <td>0.035383</td>\n",
       "      <td>0.021061</td>\n",
       "      <td>0.000000</td>\n",
       "      <td>0.080034</td>\n",
       "      <td>0.002527</td>\n",
       "      <td>0.001685</td>\n",
       "      <td>0.003370</td>\n",
       "      <td>...</td>\n",
       "      <td>0.014322</td>\n",
       "      <td>0.000000</td>\n",
       "      <td>0.013479</td>\n",
       "      <td>0.000000</td>\n",
       "      <td>0.000000</td>\n",
       "      <td>0.000000</td>\n",
       "      <td>0.000000</td>\n",
       "      <td>0.006740</td>\n",
       "      <td>0.000000</td>\n",
       "      <td>0.003370</td>\n",
       "    </tr>\n",
       "    <tr>\n",
       "      <th>PDT</th>\n",
       "      <td>0.000000</td>\n",
       "      <td>0.000000</td>\n",
       "      <td>0.000000</td>\n",
       "      <td>0.000000</td>\n",
       "      <td>0.000000</td>\n",
       "      <td>0.000000</td>\n",
       "      <td>0.000000</td>\n",
       "      <td>0.000000</td>\n",
       "      <td>0.000000</td>\n",
       "      <td>0.000000</td>\n",
       "      <td>...</td>\n",
       "      <td>0.000000</td>\n",
       "      <td>0.000000</td>\n",
       "      <td>0.000000</td>\n",
       "      <td>0.000000</td>\n",
       "      <td>0.000000</td>\n",
       "      <td>0.000000</td>\n",
       "      <td>0.000000</td>\n",
       "      <td>0.000000</td>\n",
       "      <td>0.000000</td>\n",
       "      <td>0.000000</td>\n",
       "    </tr>\n",
       "    <tr>\n",
       "      <th>''</th>\n",
       "      <td>0.000000</td>\n",
       "      <td>0.000000</td>\n",
       "      <td>0.008929</td>\n",
       "      <td>0.016071</td>\n",
       "      <td>0.007143</td>\n",
       "      <td>0.000000</td>\n",
       "      <td>0.017857</td>\n",
       "      <td>0.000000</td>\n",
       "      <td>0.076786</td>\n",
       "      <td>0.032143</td>\n",
       "      <td>...</td>\n",
       "      <td>0.001786</td>\n",
       "      <td>0.003571</td>\n",
       "      <td>0.001786</td>\n",
       "      <td>0.000000</td>\n",
       "      <td>0.000000</td>\n",
       "      <td>0.001786</td>\n",
       "      <td>0.001786</td>\n",
       "      <td>0.000000</td>\n",
       "      <td>0.000000</td>\n",
       "      <td>0.000000</td>\n",
       "    </tr>\n",
       "    <tr>\n",
       "      <th>LS</th>\n",
       "      <td>0.000000</td>\n",
       "      <td>0.000000</td>\n",
       "      <td>0.000000</td>\n",
       "      <td>0.000000</td>\n",
       "      <td>0.000000</td>\n",
       "      <td>0.000000</td>\n",
       "      <td>0.000000</td>\n",
       "      <td>0.000000</td>\n",
       "      <td>0.000000</td>\n",
       "      <td>0.000000</td>\n",
       "      <td>...</td>\n",
       "      <td>0.333333</td>\n",
       "      <td>0.000000</td>\n",
       "      <td>0.000000</td>\n",
       "      <td>0.000000</td>\n",
       "      <td>0.000000</td>\n",
       "      <td>0.000000</td>\n",
       "      <td>0.000000</td>\n",
       "      <td>0.000000</td>\n",
       "      <td>0.000000</td>\n",
       "      <td>0.000000</td>\n",
       "    </tr>\n",
       "    <tr>\n",
       "      <th>CC</th>\n",
       "      <td>0.000000</td>\n",
       "      <td>0.008625</td>\n",
       "      <td>0.106199</td>\n",
       "      <td>0.047439</td>\n",
       "      <td>0.041509</td>\n",
       "      <td>0.000000</td>\n",
       "      <td>0.008625</td>\n",
       "      <td>0.002156</td>\n",
       "      <td>0.040970</td>\n",
       "      <td>0.004313</td>\n",
       "      <td>...</td>\n",
       "      <td>0.000000</td>\n",
       "      <td>0.031267</td>\n",
       "      <td>0.010782</td>\n",
       "      <td>0.000000</td>\n",
       "      <td>0.000000</td>\n",
       "      <td>0.002695</td>\n",
       "      <td>0.011321</td>\n",
       "      <td>0.017790</td>\n",
       "      <td>0.000000</td>\n",
       "      <td>0.002156</td>\n",
       "    </tr>\n",
       "    <tr>\n",
       "      <th>NN</th>\n",
       "      <td>0.000379</td>\n",
       "      <td>0.109553</td>\n",
       "      <td>0.008055</td>\n",
       "      <td>0.015068</td>\n",
       "      <td>0.004549</td>\n",
       "      <td>0.021797</td>\n",
       "      <td>0.041035</td>\n",
       "      <td>0.002938</td>\n",
       "      <td>0.048427</td>\n",
       "      <td>0.003033</td>\n",
       "      <td>...</td>\n",
       "      <td>0.100834</td>\n",
       "      <td>0.001516</td>\n",
       "      <td>0.002274</td>\n",
       "      <td>0.000000</td>\n",
       "      <td>0.000000</td>\n",
       "      <td>0.001990</td>\n",
       "      <td>0.003601</td>\n",
       "      <td>0.000284</td>\n",
       "      <td>0.000095</td>\n",
       "      <td>0.000663</td>\n",
       "    </tr>\n",
       "    <tr>\n",
       "      <th>PRP</th>\n",
       "      <td>0.003698</td>\n",
       "      <td>0.019231</td>\n",
       "      <td>0.005178</td>\n",
       "      <td>0.049556</td>\n",
       "      <td>0.000740</td>\n",
       "      <td>0.000000</td>\n",
       "      <td>0.040680</td>\n",
       "      <td>0.000740</td>\n",
       "      <td>0.252959</td>\n",
       "      <td>0.005917</td>\n",
       "      <td>...</td>\n",
       "      <td>0.028107</td>\n",
       "      <td>0.010355</td>\n",
       "      <td>0.002959</td>\n",
       "      <td>0.000000</td>\n",
       "      <td>0.000000</td>\n",
       "      <td>0.000000</td>\n",
       "      <td>0.174556</td>\n",
       "      <td>0.000000</td>\n",
       "      <td>0.000000</td>\n",
       "      <td>0.000000</td>\n",
       "    </tr>\n",
       "    <tr>\n",
       "      <th>DT</th>\n",
       "      <td>0.000000</td>\n",
       "      <td>0.001380</td>\n",
       "      <td>0.205765</td>\n",
       "      <td>0.008433</td>\n",
       "      <td>0.024072</td>\n",
       "      <td>0.000000</td>\n",
       "      <td>0.001687</td>\n",
       "      <td>0.000613</td>\n",
       "      <td>0.001993</td>\n",
       "      <td>0.006593</td>\n",
       "      <td>...</td>\n",
       "      <td>0.001227</td>\n",
       "      <td>0.000000</td>\n",
       "      <td>0.006133</td>\n",
       "      <td>0.000000</td>\n",
       "      <td>0.002300</td>\n",
       "      <td>0.000000</td>\n",
       "      <td>0.001073</td>\n",
       "      <td>0.008740</td>\n",
       "      <td>0.000153</td>\n",
       "      <td>0.001840</td>\n",
       "    </tr>\n",
       "    <tr>\n",
       "      <th>IN</th>\n",
       "      <td>0.000126</td>\n",
       "      <td>0.001896</td>\n",
       "      <td>0.098230</td>\n",
       "      <td>0.012389</td>\n",
       "      <td>0.059292</td>\n",
       "      <td>0.000000</td>\n",
       "      <td>0.034893</td>\n",
       "      <td>0.002149</td>\n",
       "      <td>0.000379</td>\n",
       "      <td>0.006448</td>\n",
       "      <td>...</td>\n",
       "      <td>0.002781</td>\n",
       "      <td>0.000253</td>\n",
       "      <td>0.005815</td>\n",
       "      <td>0.000000</td>\n",
       "      <td>0.000000</td>\n",
       "      <td>0.001391</td>\n",
       "      <td>0.000000</td>\n",
       "      <td>0.026296</td>\n",
       "      <td>0.000126</td>\n",
       "      <td>0.000759</td>\n",
       "    </tr>\n",
       "    <tr>\n",
       "      <th>NNP</th>\n",
       "      <td>0.000135</td>\n",
       "      <td>0.149421</td>\n",
       "      <td>0.008623</td>\n",
       "      <td>0.007545</td>\n",
       "      <td>0.019537</td>\n",
       "      <td>0.049852</td>\n",
       "      <td>0.005659</td>\n",
       "      <td>0.000404</td>\n",
       "      <td>0.064403</td>\n",
       "      <td>0.000808</td>\n",
       "      <td>...</td>\n",
       "      <td>0.051738</td>\n",
       "      <td>0.000808</td>\n",
       "      <td>0.000135</td>\n",
       "      <td>0.000000</td>\n",
       "      <td>0.000000</td>\n",
       "      <td>0.000269</td>\n",
       "      <td>0.003907</td>\n",
       "      <td>0.000269</td>\n",
       "      <td>0.000000</td>\n",
       "      <td>0.000000</td>\n",
       "    </tr>\n",
       "    <tr>\n",
       "      <th>SYM</th>\n",
       "      <td>0.000000</td>\n",
       "      <td>0.000000</td>\n",
       "      <td>0.000000</td>\n",
       "      <td>0.000000</td>\n",
       "      <td>0.000000</td>\n",
       "      <td>0.000000</td>\n",
       "      <td>0.000000</td>\n",
       "      <td>0.000000</td>\n",
       "      <td>0.000000</td>\n",
       "      <td>0.000000</td>\n",
       "      <td>...</td>\n",
       "      <td>0.000000</td>\n",
       "      <td>0.000000</td>\n",
       "      <td>0.000000</td>\n",
       "      <td>0.000000</td>\n",
       "      <td>0.000000</td>\n",
       "      <td>0.000000</td>\n",
       "      <td>0.000000</td>\n",
       "      <td>0.000000</td>\n",
       "      <td>0.000000</td>\n",
       "      <td>0.000000</td>\n",
       "    </tr>\n",
       "    <tr>\n",
       "      <th>WP$</th>\n",
       "      <td>0.000000</td>\n",
       "      <td>0.000000</td>\n",
       "      <td>0.100000</td>\n",
       "      <td>0.000000</td>\n",
       "      <td>0.000000</td>\n",
       "      <td>0.000000</td>\n",
       "      <td>0.000000</td>\n",
       "      <td>0.000000</td>\n",
       "      <td>0.000000</td>\n",
       "      <td>0.000000</td>\n",
       "      <td>...</td>\n",
       "      <td>0.000000</td>\n",
       "      <td>0.000000</td>\n",
       "      <td>0.000000</td>\n",
       "      <td>0.000000</td>\n",
       "      <td>0.000000</td>\n",
       "      <td>0.000000</td>\n",
       "      <td>0.000000</td>\n",
       "      <td>0.000000</td>\n",
       "      <td>0.000000</td>\n",
       "      <td>0.000000</td>\n",
       "    </tr>\n",
       "    <tr>\n",
       "      <th>NNPS</th>\n",
       "      <td>0.000000</td>\n",
       "      <td>0.100000</td>\n",
       "      <td>0.000000</td>\n",
       "      <td>0.010526</td>\n",
       "      <td>0.000000</td>\n",
       "      <td>0.042105</td>\n",
       "      <td>0.010526</td>\n",
       "      <td>0.000000</td>\n",
       "      <td>0.047368</td>\n",
       "      <td>0.010526</td>\n",
       "      <td>...</td>\n",
       "      <td>0.094737</td>\n",
       "      <td>0.000000</td>\n",
       "      <td>0.000000</td>\n",
       "      <td>0.000000</td>\n",
       "      <td>0.000000</td>\n",
       "      <td>0.000000</td>\n",
       "      <td>0.042105</td>\n",
       "      <td>0.000000</td>\n",
       "      <td>0.000000</td>\n",
       "      <td>0.000000</td>\n",
       "    </tr>\n",
       "    <tr>\n",
       "      <th>VBZ</th>\n",
       "      <td>0.008202</td>\n",
       "      <td>0.008202</td>\n",
       "      <td>0.067370</td>\n",
       "      <td>0.133568</td>\n",
       "      <td>0.016989</td>\n",
       "      <td>0.000000</td>\n",
       "      <td>0.190978</td>\n",
       "      <td>0.001172</td>\n",
       "      <td>0.001757</td>\n",
       "      <td>0.012302</td>\n",
       "      <td>...</td>\n",
       "      <td>0.002929</td>\n",
       "      <td>0.002343</td>\n",
       "      <td>0.005858</td>\n",
       "      <td>0.000000</td>\n",
       "      <td>0.000000</td>\n",
       "      <td>0.004101</td>\n",
       "      <td>0.000000</td>\n",
       "      <td>0.004687</td>\n",
       "      <td>0.000000</td>\n",
       "      <td>0.002929</td>\n",
       "    </tr>\n",
       "    <tr>\n",
       "      <th>VBN</th>\n",
       "      <td>0.013264</td>\n",
       "      <td>0.006344</td>\n",
       "      <td>0.044406</td>\n",
       "      <td>0.024221</td>\n",
       "      <td>0.010381</td>\n",
       "      <td>0.000000</td>\n",
       "      <td>0.544406</td>\n",
       "      <td>0.000577</td>\n",
       "      <td>0.000000</td>\n",
       "      <td>0.003460</td>\n",
       "      <td>...</td>\n",
       "      <td>0.009804</td>\n",
       "      <td>0.000000</td>\n",
       "      <td>0.002884</td>\n",
       "      <td>0.000000</td>\n",
       "      <td>0.000577</td>\n",
       "      <td>0.000000</td>\n",
       "      <td>0.000000</td>\n",
       "      <td>0.003460</td>\n",
       "      <td>0.000000</td>\n",
       "      <td>0.001153</td>\n",
       "    </tr>\n",
       "    <tr>\n",
       "      <th>-LRB-</th>\n",
       "      <td>0.000000</td>\n",
       "      <td>0.000000</td>\n",
       "      <td>0.030303</td>\n",
       "      <td>0.020202</td>\n",
       "      <td>0.080808</td>\n",
       "      <td>0.000000</td>\n",
       "      <td>0.010101</td>\n",
       "      <td>0.000000</td>\n",
       "      <td>0.000000</td>\n",
       "      <td>0.000000</td>\n",
       "      <td>...</td>\n",
       "      <td>0.000000</td>\n",
       "      <td>0.000000</td>\n",
       "      <td>0.020202</td>\n",
       "      <td>0.000000</td>\n",
       "      <td>0.000000</td>\n",
       "      <td>0.000000</td>\n",
       "      <td>0.000000</td>\n",
       "      <td>0.171717</td>\n",
       "      <td>0.000000</td>\n",
       "      <td>0.000000</td>\n",
       "    </tr>\n",
       "    <tr>\n",
       "      <th>#</th>\n",
       "      <td>0.000000</td>\n",
       "      <td>0.000000</td>\n",
       "      <td>0.000000</td>\n",
       "      <td>0.000000</td>\n",
       "      <td>1.000000</td>\n",
       "      <td>0.000000</td>\n",
       "      <td>0.000000</td>\n",
       "      <td>0.000000</td>\n",
       "      <td>0.000000</td>\n",
       "      <td>0.000000</td>\n",
       "      <td>...</td>\n",
       "      <td>0.000000</td>\n",
       "      <td>0.000000</td>\n",
       "      <td>0.000000</td>\n",
       "      <td>0.000000</td>\n",
       "      <td>0.000000</td>\n",
       "      <td>0.000000</td>\n",
       "      <td>0.000000</td>\n",
       "      <td>0.000000</td>\n",
       "      <td>0.000000</td>\n",
       "      <td>0.000000</td>\n",
       "    </tr>\n",
       "    <tr>\n",
       "      <th>PRP$</th>\n",
       "      <td>0.000000</td>\n",
       "      <td>0.001616</td>\n",
       "      <td>0.214863</td>\n",
       "      <td>0.001616</td>\n",
       "      <td>0.021002</td>\n",
       "      <td>0.000000</td>\n",
       "      <td>0.000000</td>\n",
       "      <td>0.000000</td>\n",
       "      <td>0.000000</td>\n",
       "      <td>0.003231</td>\n",
       "      <td>...</td>\n",
       "      <td>0.000000</td>\n",
       "      <td>0.000000</td>\n",
       "      <td>0.003231</td>\n",
       "      <td>0.000000</td>\n",
       "      <td>0.001616</td>\n",
       "      <td>0.000000</td>\n",
       "      <td>0.000000</td>\n",
       "      <td>0.012924</td>\n",
       "      <td>0.000000</td>\n",
       "      <td>0.000000</td>\n",
       "    </tr>\n",
       "    <tr>\n",
       "      <th>:</th>\n",
       "      <td>0.000000</td>\n",
       "      <td>0.000000</td>\n",
       "      <td>0.071895</td>\n",
       "      <td>0.034858</td>\n",
       "      <td>0.089325</td>\n",
       "      <td>0.000000</td>\n",
       "      <td>0.023965</td>\n",
       "      <td>0.013072</td>\n",
       "      <td>0.026144</td>\n",
       "      <td>0.043573</td>\n",
       "      <td>...</td>\n",
       "      <td>0.008715</td>\n",
       "      <td>0.006536</td>\n",
       "      <td>0.004357</td>\n",
       "      <td>0.000000</td>\n",
       "      <td>0.000000</td>\n",
       "      <td>0.004357</td>\n",
       "      <td>0.013072</td>\n",
       "      <td>0.010893</td>\n",
       "      <td>0.000000</td>\n",
       "      <td>0.002179</td>\n",
       "    </tr>\n",
       "    <tr>\n",
       "      <th>-RRB-</th>\n",
       "      <td>0.000000</td>\n",
       "      <td>0.200000</td>\n",
       "      <td>0.019048</td>\n",
       "      <td>0.057143</td>\n",
       "      <td>0.009524</td>\n",
       "      <td>0.000000</td>\n",
       "      <td>0.028571</td>\n",
       "      <td>0.000000</td>\n",
       "      <td>0.066667</td>\n",
       "      <td>0.000000</td>\n",
       "      <td>...</td>\n",
       "      <td>0.123810</td>\n",
       "      <td>0.000000</td>\n",
       "      <td>0.009524</td>\n",
       "      <td>0.000000</td>\n",
       "      <td>0.000000</td>\n",
       "      <td>0.000000</td>\n",
       "      <td>0.019048</td>\n",
       "      <td>0.000000</td>\n",
       "      <td>0.000000</td>\n",
       "      <td>0.000000</td>\n",
       "    </tr>\n",
       "    <tr>\n",
       "      <th>.</th>\n",
       "      <td>0.000000</td>\n",
       "      <td>0.000000</td>\n",
       "      <td>0.035495</td>\n",
       "      <td>0.040981</td>\n",
       "      <td>0.006454</td>\n",
       "      <td>0.000000</td>\n",
       "      <td>0.023233</td>\n",
       "      <td>0.002581</td>\n",
       "      <td>0.000645</td>\n",
       "      <td>0.072281</td>\n",
       "      <td>...</td>\n",
       "      <td>0.000000</td>\n",
       "      <td>0.000968</td>\n",
       "      <td>0.001936</td>\n",
       "      <td>0.000323</td>\n",
       "      <td>0.000645</td>\n",
       "      <td>0.005808</td>\n",
       "      <td>0.000000</td>\n",
       "      <td>0.001613</td>\n",
       "      <td>0.000000</td>\n",
       "      <td>0.000968</td>\n",
       "    </tr>\n",
       "    <tr>\n",
       "      <th>VB</th>\n",
       "      <td>0.023483</td>\n",
       "      <td>0.012720</td>\n",
       "      <td>0.081213</td>\n",
       "      <td>0.032290</td>\n",
       "      <td>0.024462</td>\n",
       "      <td>0.000000</td>\n",
       "      <td>0.077299</td>\n",
       "      <td>0.002446</td>\n",
       "      <td>0.000978</td>\n",
       "      <td>0.005871</td>\n",
       "      <td>...</td>\n",
       "      <td>0.015656</td>\n",
       "      <td>0.001468</td>\n",
       "      <td>0.009785</td>\n",
       "      <td>0.000000</td>\n",
       "      <td>0.000978</td>\n",
       "      <td>0.003425</td>\n",
       "      <td>0.000489</td>\n",
       "      <td>0.009785</td>\n",
       "      <td>0.000000</td>\n",
       "      <td>0.008806</td>\n",
       "    </tr>\n",
       "    <tr>\n",
       "      <th>JJR</th>\n",
       "      <td>0.000000</td>\n",
       "      <td>0.032573</td>\n",
       "      <td>0.065147</td>\n",
       "      <td>0.003257</td>\n",
       "      <td>0.003257</td>\n",
       "      <td>0.000000</td>\n",
       "      <td>0.016287</td>\n",
       "      <td>0.000000</td>\n",
       "      <td>0.003257</td>\n",
       "      <td>0.000000</td>\n",
       "      <td>...</td>\n",
       "      <td>0.065147</td>\n",
       "      <td>0.003257</td>\n",
       "      <td>0.000000</td>\n",
       "      <td>0.000000</td>\n",
       "      <td>0.000000</td>\n",
       "      <td>0.003257</td>\n",
       "      <td>0.000000</td>\n",
       "      <td>0.003257</td>\n",
       "      <td>0.000000</td>\n",
       "      <td>0.000000</td>\n",
       "    </tr>\n",
       "    <tr>\n",
       "      <th>UH</th>\n",
       "      <td>0.000000</td>\n",
       "      <td>0.500000</td>\n",
       "      <td>0.000000</td>\n",
       "      <td>0.000000</td>\n",
       "      <td>0.000000</td>\n",
       "      <td>0.000000</td>\n",
       "      <td>0.000000</td>\n",
       "      <td>0.000000</td>\n",
       "      <td>0.000000</td>\n",
       "      <td>0.000000</td>\n",
       "      <td>...</td>\n",
       "      <td>0.000000</td>\n",
       "      <td>0.000000</td>\n",
       "      <td>0.000000</td>\n",
       "      <td>0.000000</td>\n",
       "      <td>0.000000</td>\n",
       "      <td>0.000000</td>\n",
       "      <td>0.000000</td>\n",
       "      <td>0.000000</td>\n",
       "      <td>0.000000</td>\n",
       "      <td>0.000000</td>\n",
       "    </tr>\n",
       "    <tr>\n",
       "      <th>RBS</th>\n",
       "      <td>0.000000</td>\n",
       "      <td>0.000000</td>\n",
       "      <td>0.655172</td>\n",
       "      <td>0.241379</td>\n",
       "      <td>0.000000</td>\n",
       "      <td>0.000000</td>\n",
       "      <td>0.000000</td>\n",
       "      <td>0.000000</td>\n",
       "      <td>0.000000</td>\n",
       "      <td>0.000000</td>\n",
       "      <td>...</td>\n",
       "      <td>0.000000</td>\n",
       "      <td>0.000000</td>\n",
       "      <td>0.000000</td>\n",
       "      <td>0.000000</td>\n",
       "      <td>0.000000</td>\n",
       "      <td>0.000000</td>\n",
       "      <td>0.000000</td>\n",
       "      <td>0.000000</td>\n",
       "      <td>0.000000</td>\n",
       "      <td>0.000000</td>\n",
       "    </tr>\n",
       "    <tr>\n",
       "      <th>WRB</th>\n",
       "      <td>0.006803</td>\n",
       "      <td>0.000000</td>\n",
       "      <td>0.108844</td>\n",
       "      <td>0.027211</td>\n",
       "      <td>0.020408</td>\n",
       "      <td>0.000000</td>\n",
       "      <td>0.054422</td>\n",
       "      <td>0.000000</td>\n",
       "      <td>0.006803</td>\n",
       "      <td>0.006803</td>\n",
       "      <td>...</td>\n",
       "      <td>0.000000</td>\n",
       "      <td>0.000000</td>\n",
       "      <td>0.000000</td>\n",
       "      <td>0.000000</td>\n",
       "      <td>0.006803</td>\n",
       "      <td>0.000000</td>\n",
       "      <td>0.020408</td>\n",
       "      <td>0.000000</td>\n",
       "      <td>0.000000</td>\n",
       "      <td>0.000000</td>\n",
       "    </tr>\n",
       "    <tr>\n",
       "      <th>VBP</th>\n",
       "      <td>0.010516</td>\n",
       "      <td>0.006692</td>\n",
       "      <td>0.072658</td>\n",
       "      <td>0.136711</td>\n",
       "      <td>0.008604</td>\n",
       "      <td>0.000000</td>\n",
       "      <td>0.159656</td>\n",
       "      <td>0.001912</td>\n",
       "      <td>0.000000</td>\n",
       "      <td>0.004780</td>\n",
       "      <td>...</td>\n",
       "      <td>0.005736</td>\n",
       "      <td>0.000956</td>\n",
       "      <td>0.006692</td>\n",
       "      <td>0.000000</td>\n",
       "      <td>0.000000</td>\n",
       "      <td>0.001912</td>\n",
       "      <td>0.000000</td>\n",
       "      <td>0.000000</td>\n",
       "      <td>0.000000</td>\n",
       "      <td>0.003824</td>\n",
       "    </tr>\n",
       "    <tr>\n",
       "      <th>$</th>\n",
       "      <td>0.000000</td>\n",
       "      <td>0.000000</td>\n",
       "      <td>0.012522</td>\n",
       "      <td>0.000000</td>\n",
       "      <td>0.987478</td>\n",
       "      <td>0.000000</td>\n",
       "      <td>0.000000</td>\n",
       "      <td>0.000000</td>\n",
       "      <td>0.000000</td>\n",
       "      <td>0.000000</td>\n",
       "      <td>...</td>\n",
       "      <td>0.000000</td>\n",
       "      <td>0.000000</td>\n",
       "      <td>0.000000</td>\n",
       "      <td>0.000000</td>\n",
       "      <td>0.000000</td>\n",
       "      <td>0.000000</td>\n",
       "      <td>0.000000</td>\n",
       "      <td>0.000000</td>\n",
       "      <td>0.000000</td>\n",
       "      <td>0.000000</td>\n",
       "    </tr>\n",
       "    <tr>\n",
       "      <th>FW</th>\n",
       "      <td>0.000000</td>\n",
       "      <td>0.000000</td>\n",
       "      <td>0.000000</td>\n",
       "      <td>0.000000</td>\n",
       "      <td>0.000000</td>\n",
       "      <td>0.000000</td>\n",
       "      <td>0.000000</td>\n",
       "      <td>0.000000</td>\n",
       "      <td>0.000000</td>\n",
       "      <td>0.000000</td>\n",
       "      <td>...</td>\n",
       "      <td>0.000000</td>\n",
       "      <td>0.000000</td>\n",
       "      <td>0.000000</td>\n",
       "      <td>0.000000</td>\n",
       "      <td>0.000000</td>\n",
       "      <td>0.000000</td>\n",
       "      <td>0.000000</td>\n",
       "      <td>0.000000</td>\n",
       "      <td>0.000000</td>\n",
       "      <td>0.000000</td>\n",
       "    </tr>\n",
       "    <tr>\n",
       "      <th>RBR</th>\n",
       "      <td>0.000000</td>\n",
       "      <td>0.017857</td>\n",
       "      <td>0.401786</td>\n",
       "      <td>0.089286</td>\n",
       "      <td>0.000000</td>\n",
       "      <td>0.000000</td>\n",
       "      <td>0.017857</td>\n",
       "      <td>0.000000</td>\n",
       "      <td>0.000000</td>\n",
       "      <td>0.000000</td>\n",
       "      <td>...</td>\n",
       "      <td>0.053571</td>\n",
       "      <td>0.008929</td>\n",
       "      <td>0.000000</td>\n",
       "      <td>0.000000</td>\n",
       "      <td>0.000000</td>\n",
       "      <td>0.008929</td>\n",
       "      <td>0.008929</td>\n",
       "      <td>0.000000</td>\n",
       "      <td>0.000000</td>\n",
       "      <td>0.000000</td>\n",
       "    </tr>\n",
       "  </tbody>\n",
       "</table>\n",
       "<p>46 rows × 46 columns</p>\n",
       "</div>"
      ],
      "text/plain": [
       "              RP         ,        JJ        RB        CD       POS    -NONE-  \\\n",
       "RP      0.000000  0.029586  0.053254  0.023669  0.011834  0.000000  0.118343   \n",
       ",       0.000000  0.000000  0.041915  0.058732  0.025356  0.000000  0.033894   \n",
       "JJ      0.000213  0.026814  0.065759  0.001915  0.021707  0.000000  0.020643   \n",
       "RB      0.000000  0.090707  0.096043  0.070253  0.036016  0.000000  0.019120   \n",
       "CD      0.000000  0.060159  0.031340  0.001801  0.184798  0.001081  0.210014   \n",
       "POS     0.000000  0.007587  0.195751  0.003035  0.021244  0.000000  0.000000   \n",
       "-NONE-  0.001334  0.051077  0.014675  0.023633  0.002859  0.000191  0.075281   \n",
       "WP      0.000000  0.005405  0.000000  0.016216  0.005405  0.000000  0.800000   \n",
       "VBD     0.013676  0.010361  0.045586  0.077082  0.050145  0.000000  0.271032   \n",
       "``      0.000000  0.000000  0.109185  0.077990  0.001733  0.000000  0.032929   \n",
       "TO      0.000000  0.000000  0.028235  0.007647  0.074706  0.000000  0.008824   \n",
       "WDT     0.000000  0.000000  0.011494  0.002874  0.005747  0.000000  0.859195   \n",
       "EX      0.000000  0.000000  0.000000  0.027778  0.000000  0.000000  0.000000   \n",
       "JJS     0.000000  0.020690  0.137931  0.013793  0.048276  0.000000  0.013793   \n",
       "MD      0.000000  0.003968  0.000000  0.158730  0.000000  0.000000  0.005291   \n",
       "NNS     0.000204  0.121126  0.017741  0.024266  0.001835  0.009584  0.040783   \n",
       "VBG     0.016007  0.017692  0.065712  0.035383  0.021061  0.000000  0.080034   \n",
       "PDT     0.000000  0.000000  0.000000  0.000000  0.000000  0.000000  0.000000   \n",
       "''      0.000000  0.000000  0.008929  0.016071  0.007143  0.000000  0.017857   \n",
       "LS      0.000000  0.000000  0.000000  0.000000  0.000000  0.000000  0.000000   \n",
       "CC      0.000000  0.008625  0.106199  0.047439  0.041509  0.000000  0.008625   \n",
       "NN      0.000379  0.109553  0.008055  0.015068  0.004549  0.021797  0.041035   \n",
       "PRP     0.003698  0.019231  0.005178  0.049556  0.000740  0.000000  0.040680   \n",
       "DT      0.000000  0.001380  0.205765  0.008433  0.024072  0.000000  0.001687   \n",
       "IN      0.000126  0.001896  0.098230  0.012389  0.059292  0.000000  0.034893   \n",
       "NNP     0.000135  0.149421  0.008623  0.007545  0.019537  0.049852  0.005659   \n",
       "SYM     0.000000  0.000000  0.000000  0.000000  0.000000  0.000000  0.000000   \n",
       "WP$     0.000000  0.000000  0.100000  0.000000  0.000000  0.000000  0.000000   \n",
       "NNPS    0.000000  0.100000  0.000000  0.010526  0.000000  0.042105  0.010526   \n",
       "VBZ     0.008202  0.008202  0.067370  0.133568  0.016989  0.000000  0.190978   \n",
       "VBN     0.013264  0.006344  0.044406  0.024221  0.010381  0.000000  0.544406   \n",
       "-LRB-   0.000000  0.000000  0.030303  0.020202  0.080808  0.000000  0.010101   \n",
       "#       0.000000  0.000000  0.000000  0.000000  1.000000  0.000000  0.000000   \n",
       "PRP$    0.000000  0.001616  0.214863  0.001616  0.021002  0.000000  0.000000   \n",
       ":       0.000000  0.000000  0.071895  0.034858  0.089325  0.000000  0.023965   \n",
       "-RRB-   0.000000  0.200000  0.019048  0.057143  0.009524  0.000000  0.028571   \n",
       ".       0.000000  0.000000  0.035495  0.040981  0.006454  0.000000  0.023233   \n",
       "VB      0.023483  0.012720  0.081213  0.032290  0.024462  0.000000  0.077299   \n",
       "JJR     0.000000  0.032573  0.065147  0.003257  0.003257  0.000000  0.016287   \n",
       "UH      0.000000  0.500000  0.000000  0.000000  0.000000  0.000000  0.000000   \n",
       "RBS     0.000000  0.000000  0.655172  0.241379  0.000000  0.000000  0.000000   \n",
       "WRB     0.006803  0.000000  0.108844  0.027211  0.020408  0.000000  0.054422   \n",
       "VBP     0.010516  0.006692  0.072658  0.136711  0.008604  0.000000  0.159656   \n",
       "$       0.000000  0.000000  0.012522  0.000000  0.987478  0.000000  0.000000   \n",
       "FW      0.000000  0.000000  0.000000  0.000000  0.000000  0.000000  0.000000   \n",
       "RBR     0.000000  0.017857  0.401786  0.089286  0.000000  0.000000  0.017857   \n",
       "\n",
       "              WP       VBD        ``  ...         .        VB       JJR  \\\n",
       "RP      0.000000  0.000000  0.011834  ...  0.029586  0.000000  0.011834   \n",
       ",       0.011125  0.052005  0.014230  ...  0.000000  0.003105  0.001552   \n",
       "JJ      0.000213  0.000851  0.002128  ...  0.021707  0.000000  0.000638   \n",
       "RB      0.001334  0.063584  0.001779  ...  0.039573  0.103157  0.015562   \n",
       "CD      0.000360  0.005764  0.000000  ...  0.047190  0.000000  0.001081   \n",
       "POS     0.000000  0.009105  0.007587  ...  0.012140  0.000000  0.003035   \n",
       "-NONE-  0.000191  0.031065  0.002096  ...  0.092624  0.009148  0.001906   \n",
       "WP      0.000000  0.000000  0.000000  ...  0.000000  0.000000  0.000000   \n",
       "VBD     0.000414  0.000000  0.004144  ...  0.007460  0.001243  0.007460   \n",
       "``      0.008666  0.006932  0.000000  ...  0.000000  0.012132  0.001733   \n",
       "TO      0.000000  0.000000  0.004118  ...  0.000000  0.581176  0.004706   \n",
       "WDT     0.000000  0.002874  0.005747  ...  0.000000  0.000000  0.000000   \n",
       "EX      0.000000  0.125000  0.000000  ...  0.000000  0.000000  0.000000   \n",
       "JJS     0.000000  0.006897  0.000000  ...  0.027586  0.013793  0.000000   \n",
       "MD      0.000000  0.000000  0.002646  ...  0.000000  0.820106  0.000000   \n",
       "NNS     0.008768  0.073409  0.001223  ...  0.121737  0.003670  0.002447   \n",
       "VBG     0.002527  0.001685  0.003370  ...  0.014322  0.000000  0.013479   \n",
       "PDT     0.000000  0.000000  0.000000  ...  0.000000  0.000000  0.000000   \n",
       "''      0.000000  0.076786  0.032143  ...  0.001786  0.003571  0.001786   \n",
       "LS      0.000000  0.000000  0.000000  ...  0.333333  0.000000  0.000000   \n",
       "CC      0.002156  0.040970  0.004313  ...  0.000000  0.031267  0.010782   \n",
       "NN      0.002938  0.048427  0.003033  ...  0.100834  0.001516  0.002274   \n",
       "PRP     0.000740  0.252959  0.005917  ...  0.028107  0.010355  0.002959   \n",
       "DT      0.000613  0.001993  0.006593  ...  0.001227  0.000000  0.006133   \n",
       "IN      0.002149  0.000379  0.006448  ...  0.002781  0.000253  0.005815   \n",
       "NNP     0.000404  0.064403  0.000808  ...  0.051738  0.000808  0.000135   \n",
       "SYM     0.000000  0.000000  0.000000  ...  0.000000  0.000000  0.000000   \n",
       "WP$     0.000000  0.000000  0.000000  ...  0.000000  0.000000  0.000000   \n",
       "NNPS    0.000000  0.047368  0.010526  ...  0.094737  0.000000  0.000000   \n",
       "VBZ     0.001172  0.001757  0.012302  ...  0.002929  0.002343  0.005858   \n",
       "VBN     0.000577  0.000000  0.003460  ...  0.009804  0.000000  0.002884   \n",
       "-LRB-   0.000000  0.000000  0.000000  ...  0.000000  0.000000  0.020202   \n",
       "#       0.000000  0.000000  0.000000  ...  0.000000  0.000000  0.000000   \n",
       "PRP$    0.000000  0.000000  0.003231  ...  0.000000  0.000000  0.003231   \n",
       ":       0.013072  0.026144  0.043573  ...  0.008715  0.006536  0.004357   \n",
       "-RRB-   0.000000  0.066667  0.000000  ...  0.123810  0.000000  0.009524   \n",
       ".       0.002581  0.000645  0.072281  ...  0.000000  0.000968  0.001936   \n",
       "VB      0.002446  0.000978  0.005871  ...  0.015656  0.001468  0.009785   \n",
       "JJR     0.000000  0.003257  0.000000  ...  0.065147  0.003257  0.000000   \n",
       "UH      0.000000  0.000000  0.000000  ...  0.000000  0.000000  0.000000   \n",
       "RBS     0.000000  0.000000  0.000000  ...  0.000000  0.000000  0.000000   \n",
       "WRB     0.000000  0.006803  0.006803  ...  0.000000  0.000000  0.000000   \n",
       "VBP     0.001912  0.000000  0.004780  ...  0.005736  0.000956  0.006692   \n",
       "$       0.000000  0.000000  0.000000  ...  0.000000  0.000000  0.000000   \n",
       "FW      0.000000  0.000000  0.000000  ...  0.000000  0.000000  0.000000   \n",
       "RBR     0.000000  0.000000  0.000000  ...  0.053571  0.008929  0.000000   \n",
       "\n",
       "              UH       RBS       WRB       VBP         $        FW       RBR  \n",
       "RP      0.000000  0.000000  0.000000  0.000000  0.011834  0.000000  0.000000  \n",
       ",       0.000000  0.000776  0.008538  0.008797  0.008797  0.000259  0.000776  \n",
       "JJ      0.000000  0.000000  0.001064  0.000851  0.001702  0.000000  0.000426  \n",
       "RB      0.000000  0.000000  0.001334  0.031125  0.008004  0.000000  0.007559  \n",
       "CD      0.000000  0.000000  0.000360  0.003602  0.000000  0.000000  0.000720  \n",
       "POS     0.000000  0.003035  0.000000  0.000000  0.007587  0.000000  0.000000  \n",
       "-NONE-  0.000000  0.000191  0.000762  0.022489  0.002478  0.000000  0.001144  \n",
       "WP      0.000000  0.000000  0.000000  0.000000  0.000000  0.000000  0.000000  \n",
       "VBD     0.000414  0.000000  0.001658  0.000000  0.013676  0.000000  0.002487  \n",
       "``      0.000000  0.000000  0.010399  0.013865  0.000000  0.000000  0.000000  \n",
       "TO      0.000000  0.000000  0.000000  0.000000  0.035882  0.000000  0.001176  \n",
       "WDT     0.000000  0.000000  0.000000  0.000000  0.000000  0.000000  0.000000  \n",
       "EX      0.000000  0.000000  0.000000  0.208333  0.000000  0.000000  0.000000  \n",
       "JJS     0.000000  0.000000  0.000000  0.006897  0.013793  0.000000  0.000000  \n",
       "MD      0.000000  0.000000  0.000000  0.000000  0.000000  0.000000  0.001323  \n",
       "NNS     0.000000  0.000204  0.002651  0.088295  0.000408  0.000000  0.001427  \n",
       "VBG     0.000000  0.000000  0.000000  0.000000  0.006740  0.000000  0.003370  \n",
       "PDT     0.000000  0.000000  0.000000  0.000000  0.000000  0.000000  0.000000  \n",
       "''      0.000000  0.000000  0.001786  0.001786  0.000000  0.000000  0.000000  \n",
       "LS      0.000000  0.000000  0.000000  0.000000  0.000000  0.000000  0.000000  \n",
       "CC      0.000000  0.000000  0.002695  0.011321  0.017790  0.000000  0.002156  \n",
       "NN      0.000000  0.000000  0.001990  0.003601  0.000284  0.000095  0.000663  \n",
       "PRP     0.000000  0.000000  0.000000  0.174556  0.000000  0.000000  0.000000  \n",
       "DT      0.000000  0.002300  0.000000  0.001073  0.008740  0.000153  0.001840  \n",
       "IN      0.000000  0.000000  0.001391  0.000000  0.026296  0.000126  0.000759  \n",
       "NNP     0.000000  0.000000  0.000269  0.003907  0.000269  0.000000  0.000000  \n",
       "SYM     0.000000  0.000000  0.000000  0.000000  0.000000  0.000000  0.000000  \n",
       "WP$     0.000000  0.000000  0.000000  0.000000  0.000000  0.000000  0.000000  \n",
       "NNPS    0.000000  0.000000  0.000000  0.042105  0.000000  0.000000  0.000000  \n",
       "VBZ     0.000000  0.000000  0.004101  0.000000  0.004687  0.000000  0.002929  \n",
       "VBN     0.000000  0.000577  0.000000  0.000000  0.003460  0.000000  0.001153  \n",
       "-LRB-   0.000000  0.000000  0.000000  0.000000  0.171717  0.000000  0.000000  \n",
       "#       0.000000  0.000000  0.000000  0.000000  0.000000  0.000000  0.000000  \n",
       "PRP$    0.000000  0.001616  0.000000  0.000000  0.012924  0.000000  0.000000  \n",
       ":       0.000000  0.000000  0.004357  0.013072  0.010893  0.000000  0.002179  \n",
       "-RRB-   0.000000  0.000000  0.000000  0.019048  0.000000  0.000000  0.000000  \n",
       ".       0.000323  0.000645  0.005808  0.000000  0.001613  0.000000  0.000968  \n",
       "VB      0.000000  0.000978  0.003425  0.000489  0.009785  0.000000  0.008806  \n",
       "JJR     0.000000  0.000000  0.003257  0.000000  0.003257  0.000000  0.000000  \n",
       "UH      0.000000  0.000000  0.000000  0.000000  0.000000  0.000000  0.000000  \n",
       "RBS     0.000000  0.000000  0.000000  0.000000  0.000000  0.000000  0.000000  \n",
       "WRB     0.000000  0.006803  0.000000  0.020408  0.000000  0.000000  0.000000  \n",
       "VBP     0.000000  0.000000  0.001912  0.000000  0.000000  0.000000  0.003824  \n",
       "$       0.000000  0.000000  0.000000  0.000000  0.000000  0.000000  0.000000  \n",
       "FW      0.000000  0.000000  0.000000  0.000000  0.000000  0.000000  0.000000  \n",
       "RBR     0.000000  0.000000  0.008929  0.008929  0.000000  0.000000  0.000000  \n",
       "\n",
       "[46 rows x 46 columns]"
      ]
     },
     "execution_count": 37,
     "metadata": {},
     "output_type": "execute_result"
    }
   ],
   "source": [
    "tags_df"
   ]
  },
  {
   "cell_type": "code",
   "execution_count": 38,
   "metadata": {
    "scrolled": true
   },
   "outputs": [
    {
     "data": {
      "text/plain": [
       "RP        0.000000\n",
       ",         0.000000\n",
       "JJ        0.035495\n",
       "RB        0.040981\n",
       "CD        0.006454\n",
       "POS       0.000000\n",
       "-NONE-    0.023233\n",
       "WP        0.002581\n",
       "VBD       0.000645\n",
       "``        0.072281\n",
       "TO        0.001291\n",
       "WDT       0.000323\n",
       "EX        0.004518\n",
       "JJS       0.001613\n",
       "MD        0.000323\n",
       "NNS       0.044853\n",
       "VBG       0.004518\n",
       "PDT       0.000645\n",
       "''        0.060342\n",
       "LS        0.001936\n",
       "CC        0.049693\n",
       "NN        0.043885\n",
       "PRP       0.058083\n",
       "DT        0.212004\n",
       "IN        0.118103\n",
       "NNP       0.176509\n",
       "SYM       0.000000\n",
       "WP$       0.000000\n",
       "NNPS      0.001936\n",
       "VBZ       0.002581\n",
       "VBN       0.002259\n",
       "-LRB-     0.003872\n",
       "#         0.000000\n",
       "PRP$      0.007744\n",
       ":         0.003872\n",
       "-RRB-     0.004840\n",
       ".         0.000000\n",
       "VB        0.000968\n",
       "JJR       0.001936\n",
       "UH        0.000323\n",
       "RBS       0.000645\n",
       "WRB       0.005808\n",
       "VBP       0.000000\n",
       "$         0.001613\n",
       "FW        0.000000\n",
       "RBR       0.000968\n",
       "Name: ., dtype: float32"
      ]
     },
     "execution_count": 38,
     "metadata": {},
     "output_type": "execute_result"
    }
   ],
   "source": [
    "tags_df.loc['.', :]"
   ]
  },
  {
   "cell_type": "code",
   "execution_count": 39,
   "metadata": {
    "scrolled": false
   },
   "outputs": [
    {
     "data": {
      "image/png": "[encoded data removed]",
      "text/plain": [
       "<Figure size 1296x864 with 2 Axes>"
      ]
     },
     "metadata": {
      "needs_background": "light"
     },
     "output_type": "display_data"
    }
   ],
   "source": [
    "# heatmap of tags matrix\n",
    "# T(i, j) means P(tag j given tag i)\n",
    "plt.figure(figsize=(18, 12))\n",
    "sns.heatmap(tags_df)\n",
    "plt.show()\n"
   ]
  },
  {
   "cell_type": "code",
   "execution_count": 40,
   "metadata": {},
   "outputs": [
    {
     "data": {
      "image/png": "[encoded data removed]",
      "text/plain": [
       "<Figure size 1296x864 with 2 Axes>"
      ]
     },
     "metadata": {
      "needs_background": "light"
     },
     "output_type": "display_data"
    }
   ],
   "source": [
    "# frequent tags\n",
    "# filter the df to get P(t2, t1) > 0.5\n",
    "tags_frequent = tags_df[tags_df>0.5]\n",
    "plt.figure(figsize=(18, 12))\n",
    "sns.heatmap(tags_frequent)\n",
    "plt.show()"
   ]
  },
  {
   "cell_type": "markdown",
   "metadata": {},
   "source": [
    "## Viterbi Algorithm\n",
    "\n",
    "Let's now use the computed probabilities P(w, tag) and P(t2, t1) to assign tags to each word in the document. We'll run through each word w and compute P(tag/w)=P(w/tag).P(tag) for each tag in the tag set, and then assign the tag having the max P(tag/w).\n",
    "\n",
    "We'll store the assigned tags in a list of tuples, similar to the list 'train_tagged_words'. Each tuple will be a (token, assigned_tag). As we progress further in the list, each tag to be assigned will use the tag of the previous token.\n",
    "\n",
    "Note: P(tag|start) = P(tag|'.') "
   ]
  },
  {
   "cell_type": "code",
   "execution_count": 41,
   "metadata": {},
   "outputs": [
    {
     "data": {
      "text/plain": [
       "80440"
      ]
     },
     "execution_count": 41,
     "metadata": {},
     "output_type": "execute_result"
    }
   ],
   "source": [
    "len(train_tagged_words)"
   ]
  },
  {
   "cell_type": "code",
   "execution_count": 42,
   "metadata": {},
   "outputs": [],
   "source": [
    "# Viterbi Heuristic\n",
    "def Viterbi(words, train_bag = train_tagged_words):\n",
    "    state = []\n",
    "    T = list(set([pair[1] for pair in train_bag]))\n",
    "    \n",
    "    for key, word in enumerate(words):\n",
    "        #initialise list of probability column for a given observation\n",
    "        p = [] \n",
    "        for tag in T:\n",
    "            if key == 0:\n",
    "                transition_p = tags_df.loc['.', tag]\n",
    "            else:\n",
    "                transition_p = tags_df.loc[state[-1], tag]\n",
    "                \n",
    "            # compute emission and state probabilities\n",
    "            emission_p = word_given_tag(words[key], tag)[0]/word_given_tag(words[key], tag)[1]\n",
    "            state_probability = emission_p * transition_p    \n",
    "            p.append(state_probability)\n",
    "            \n",
    "        pmax = max(p)\n",
    "        # getting state for which probability is maximum\n",
    "        state_max = T[p.index(pmax)] \n",
    "        state.append(state_max)\n",
    "    return list(zip(words, state))\n",
    "\n"
   ]
  },
  {
   "cell_type": "code",
   "execution_count": 43,
   "metadata": {},
   "outputs": [
    {
     "data": {
      "text/plain": [
       "[[('One', 'CD'),\n",
       "  ('analyst', 'NN'),\n",
       "  (',', ','),\n",
       "  ('Arthur', 'NNP'),\n",
       "  ('Stevenson', 'NNP'),\n",
       "  (',', ','),\n",
       "  ('of', 'IN'),\n",
       "  ('Prudential-Bache', 'NNP'),\n",
       "  ('Securities', 'NNPS'),\n",
       "  (',', ','),\n",
       "  ('New', 'NNP'),\n",
       "  ('York', 'NNP'),\n",
       "  (',', ','),\n",
       "  ('estimated', 'VBD'),\n",
       "  ('that', 'IN'),\n",
       "  ('65', 'CD'),\n",
       "  ('%', 'NN'),\n",
       "  ('or', 'CC'),\n",
       "  ('more', 'JJR'),\n",
       "  ('of', 'IN'),\n",
       "  ('Brazil', 'NNP'),\n",
       "  (\"'s\", 'POS'),\n",
       "  ('newly', 'RB'),\n",
       "  ('made', 'VBN'),\n",
       "  ('automobiles', 'NNS'),\n",
       "  ('run', 'VBP'),\n",
       "  ('on', 'IN'),\n",
       "  ('alcohol', 'NN'),\n",
       "  ('and', 'CC'),\n",
       "  ('ca', 'MD'),\n",
       "  (\"n't\", 'RB'),\n",
       "  ('use', 'VB'),\n",
       "  ('gasoline', 'NN'),\n",
       "  ('.', '.')],\n",
       " [('The', 'DT'),\n",
       "  ('Old', 'NNP'),\n",
       "  ('Guard', 'NNP'),\n",
       "  (\"'s\", 'POS'),\n",
       "  ('assault', 'NN'),\n",
       "  ('on', 'IN'),\n",
       "  ('program', 'NN'),\n",
       "  ('trading', 'NN'),\n",
       "  ('and', 'CC'),\n",
       "  ('its', 'PRP$'),\n",
       "  ('practitioners', 'NNS'),\n",
       "  ('has', 'VBZ'),\n",
       "  ('been', 'VBN'),\n",
       "  ('fierce', 'JJ'),\n",
       "  ('and', 'CC'),\n",
       "  ('broad-based', 'JJ'),\n",
       "  (',', ','),\n",
       "  ('in', 'IN'),\n",
       "  ('part', 'NN'),\n",
       "  ('because', 'IN'),\n",
       "  ('some', 'DT'),\n",
       "  ('Old', 'NNP'),\n",
       "  ('Guard', 'NNP'),\n",
       "  ('members', 'NNS'),\n",
       "  ('feel', 'VBP'),\n",
       "  ('0', '-NONE-'),\n",
       "  ('their', 'PRP$'),\n",
       "  ('very', 'JJ'),\n",
       "  ('livelihood', 'NN'),\n",
       "  ('is', 'VBZ'),\n",
       "  ('at', 'IN'),\n",
       "  ('stake', 'NN'),\n",
       "  ('.', '.')],\n",
       " [('You', 'PRP'),\n",
       "  ('look', 'VBP'),\n",
       "  ('around', 'RP'),\n",
       "  ('at', 'IN'),\n",
       "  ('professional', 'JJ'),\n",
       "  ('ballplayers', 'NNS'),\n",
       "  ('or', 'CC'),\n",
       "  ('accountants', 'NNS'),\n",
       "  ('...', ':'),\n",
       "  ('and', 'CC'),\n",
       "  ('nobody', 'NN'),\n",
       "  ('blinks', 'VBZ'),\n",
       "  ('an', 'DT'),\n",
       "  ('eye', 'NN'),\n",
       "  ('.', '.')],\n",
       " [('``', '``'),\n",
       "  ('Once', 'IN'),\n",
       "  ('we', 'PRP'),\n",
       "  ('do', 'VBP'),\n",
       "  (',', ','),\n",
       "  ('they', 'PRP'),\n",
       "  ('will', 'MD'),\n",
       "  ('receive', 'VB'),\n",
       "  ('very', 'RB'),\n",
       "  ('serious', 'JJ'),\n",
       "  ('evaluation', 'NN'),\n",
       "  (',', ','),\n",
       "  (\"''\", \"''\"),\n",
       "  ('the', 'DT'),\n",
       "  ('spokesman', 'NN'),\n",
       "  ('said', 'VBD'),\n",
       "  ('*T*-1', '-NONE-'),\n",
       "  ('.', '.')],\n",
       " [('As', 'IN'),\n",
       "  ('more', 'JJR'),\n",
       "  ('managers', 'NNS'),\n",
       "  ('pursue', 'VBP'),\n",
       "  ('the', 'DT'),\n",
       "  ('index-arbitrage', 'JJ'),\n",
       "  ('strategy', 'NN'),\n",
       "  (',', ','),\n",
       "  ('these', 'DT'),\n",
       "  ('small', 'JJ'),\n",
       "  ('opportunities', 'NNS'),\n",
       "  ('between', 'IN'),\n",
       "  ('markets', 'NNS'),\n",
       "  ('will', 'MD'),\n",
       "  ('be', 'VB'),\n",
       "  ('reduced', 'VBN'),\n",
       "  ('*-1', '-NONE-'),\n",
       "  ('and', 'CC'),\n",
       "  (',', ','),\n",
       "  ('eventually', 'RB'),\n",
       "  (',', ','),\n",
       "  ('eliminated', 'VBN'),\n",
       "  ('*-1', '-NONE-'),\n",
       "  ('.', '.')]]"
      ]
     },
     "execution_count": 43,
     "metadata": {},
     "output_type": "execute_result"
    }
   ],
   "source": [
    "# Running on entire test dataset would take more than 3-4hrs. \n",
    "# Let's test our Viterbi algorithm on a few sample sentences of test dataset\n",
    "\n",
    "random.seed(1234)\n",
    "\n",
    "# choose random 5 sents\n",
    "rndom = [random.randint(1,len(test_set)) for x in range(5)]\n",
    "\n",
    "# list of sents\n",
    "test_run = [test_set[i] for i in rndom]\n",
    "\n",
    "# list of tagged words\n",
    "test_run_base = [tup for sent in test_run for tup in sent]\n",
    "\n",
    "# list of untagged words\n",
    "test_tagged_words = [tup[0] for sent in test_run for tup in sent]\n",
    "test_run"
   ]
  },
  {
   "cell_type": "code",
   "execution_count": 44,
   "metadata": {},
   "outputs": [],
   "source": [
    "# tagging the test sentences\n",
    "start = time.time()\n",
    "tagged_seq = Viterbi(test_tagged_words)\n",
    "end = time.time()\n",
    "difference = end-start"
   ]
  },
  {
   "cell_type": "code",
   "execution_count": 45,
   "metadata": {},
   "outputs": [
    {
     "name": "stdout",
     "output_type": "stream",
     "text": [
      "Time taken in seconds:  83.96265411376953\n",
      "[('One', 'CD'), ('analyst', 'NN'), (',', ','), ('Arthur', 'NNP'), ('Stevenson', 'NNP'), (',', ','), ('of', 'IN'), ('Prudential-Bache', 'NNP'), ('Securities', 'NNPS'), (',', ','), ('New', 'NNP'), ('York', 'NNP'), (',', ','), ('estimated', 'VBD'), ('that', 'IN'), ('65', 'CD'), ('%', 'NN'), ('or', 'CC'), ('more', 'JJR'), ('of', 'IN'), ('Brazil', 'NNP'), (\"'s\", 'POS'), ('newly', 'RB'), ('made', 'VBN'), ('automobiles', 'NNS'), ('run', 'VBP'), ('on', 'IN'), ('alcohol', 'NN'), ('and', 'CC'), ('ca', 'MD'), (\"n't\", 'RB'), ('use', 'VB'), ('gasoline', 'NN'), ('.', '.'), ('The', 'DT'), ('Old', 'NNP'), ('Guard', 'NNP'), (\"'s\", 'POS'), ('assault', 'NN'), ('on', 'IN'), ('program', 'NN'), ('trading', 'NN'), ('and', 'CC'), ('its', 'PRP$'), ('practitioners', 'RP'), ('has', 'RP'), ('been', 'RP'), ('fierce', 'JJ'), ('and', 'CC'), ('broad-based', 'RP'), (',', ','), ('in', 'IN'), ('part', 'NN'), ('because', 'IN'), ('some', 'DT'), ('Old', 'NNP'), ('Guard', 'NNP'), ('members', 'NNS'), ('feel', 'VBP'), ('0', '-NONE-'), ('their', 'PRP$'), ('very', 'JJ'), ('livelihood', 'RP'), ('is', 'RP'), ('at', 'IN'), ('stake', 'NN'), ('.', '.'), ('You', 'PRP'), ('look', 'VBP'), ('around', 'IN'), ('at', 'IN'), ('professional', 'JJ'), ('ballplayers', 'NNS'), ('or', 'CC'), ('accountants', 'RP'), ('...', 'RP'), ('and', 'CC'), ('nobody', 'NN'), ('blinks', 'RP'), ('an', 'DT'), ('eye', 'NN'), ('.', '.'), ('``', '``'), ('Once', 'RB'), ('we', 'PRP'), ('do', 'VBP'), (',', ','), ('they', 'PRP'), ('will', 'MD'), ('receive', 'VB'), ('very', 'RB'), ('serious', 'JJ'), ('evaluation', 'RP'), (',', ','), (\"''\", \"''\"), ('the', 'DT'), ('spokesman', 'NN'), ('said', 'VBD'), ('*T*-1', '-NONE-'), ('.', '.'), ('As', 'IN'), ('more', 'JJR'), ('managers', 'NNS'), ('pursue', 'VB'), ('the', 'DT'), ('index-arbitrage', 'JJ'), ('strategy', 'NN'), (',', ','), ('these', 'DT'), ('small', 'JJ'), ('opportunities', 'NNS'), ('between', 'IN'), ('markets', 'NNS'), ('will', 'MD'), ('be', 'VB'), ('reduced', 'VBN'), ('*-1', '-NONE-'), ('and', 'CC'), (',', ','), ('eventually', 'RB'), (',', ','), ('eliminated', 'VBN'), ('*-1', '-NONE-'), ('.', '.')]\n"
     ]
    }
   ],
   "source": [
    "print(\"Time taken in seconds: \", difference)\n",
    "print(tagged_seq)\n",
    "#print(test_run_base)"
   ]
  },
  {
   "cell_type": "code",
   "execution_count": 46,
   "metadata": {},
   "outputs": [],
   "source": [
    "# accuracy\n",
    "check = [i for i, j in zip(tagged_seq, test_run_base) if i == j] "
   ]
  },
  {
   "cell_type": "code",
   "execution_count": 47,
   "metadata": {},
   "outputs": [],
   "source": [
    "accuracy = len(check)/len(tagged_seq)"
   ]
  },
  {
   "cell_type": "code",
   "execution_count": 48,
   "metadata": {},
   "outputs": [
    {
     "data": {
      "text/plain": [
       "0.8951612903225806"
      ]
     },
     "execution_count": 48,
     "metadata": {},
     "output_type": "execute_result"
    }
   ],
   "source": [
    "accuracy"
   ]
  },
  {
   "cell_type": "code",
   "execution_count": 49,
   "metadata": {},
   "outputs": [],
   "source": [
    "incorrect_tagged_cases = [[test_run_base[i-1],j] for i, j in enumerate(zip(tagged_seq, test_run_base)) if j[0]!=j[1]]"
   ]
  },
  {
   "cell_type": "code",
   "execution_count": 50,
   "metadata": {},
   "outputs": [
    {
     "data": {
      "text/plain": [
       "[[('its', 'PRP$'), (('practitioners', 'RP'), ('practitioners', 'NNS'))],\n",
       " [('practitioners', 'NNS'), (('has', 'RP'), ('has', 'VBZ'))],\n",
       " [('has', 'VBZ'), (('been', 'RP'), ('been', 'VBN'))],\n",
       " [('and', 'CC'), (('broad-based', 'RP'), ('broad-based', 'JJ'))],\n",
       " [('very', 'JJ'), (('livelihood', 'RP'), ('livelihood', 'NN'))],\n",
       " [('livelihood', 'NN'), (('is', 'RP'), ('is', 'VBZ'))],\n",
       " [('look', 'VBP'), (('around', 'IN'), ('around', 'RP'))],\n",
       " [('or', 'CC'), (('accountants', 'RP'), ('accountants', 'NNS'))],\n",
       " [('accountants', 'NNS'), (('...', 'RP'), ('...', ':'))],\n",
       " [('nobody', 'NN'), (('blinks', 'RP'), ('blinks', 'VBZ'))],\n",
       " [('``', '``'), (('Once', 'RB'), ('Once', 'IN'))],\n",
       " [('serious', 'JJ'), (('evaluation', 'RP'), ('evaluation', 'NN'))],\n",
       " [('managers', 'NNS'), (('pursue', 'VB'), ('pursue', 'VBP'))]]"
      ]
     },
     "execution_count": 50,
     "metadata": {},
     "output_type": "execute_result"
    }
   ],
   "source": [
    "incorrect_tagged_cases"
   ]
  },
  {
   "cell_type": "code",
   "execution_count": 51,
   "metadata": {},
   "outputs": [],
   "source": [
    "## Testing\n",
    "sentence_test = 'Twitter is the best networking social site. Man is a social animal. Data science is an emerging field. Data science jobs are high in demand.'\n",
    "words = word_tokenize(sentence_test)\n",
    "\n",
    "start = time.time()\n",
    "tagged_seq = Viterbi(words)\n",
    "end = time.time()\n",
    "difference = end-start"
   ]
  },
  {
   "cell_type": "code",
   "execution_count": 52,
   "metadata": {
    "scrolled": true
   },
   "outputs": [
    {
     "name": "stdout",
     "output_type": "stream",
     "text": [
      "[('Twitter', 'RP'), ('is', 'RP'), ('the', 'DT'), ('best', 'JJS'), ('networking', 'NN'), ('social', 'JJ'), ('site', 'RP'), ('.', '.'), ('Man', 'NNP'), ('is', 'VBZ'), ('a', 'DT'), ('social', 'JJ'), ('animal', 'RP'), ('.', '.'), ('Data', 'NNP'), ('science', 'NN'), ('is', 'VBZ'), ('an', 'DT'), ('emerging', 'VBG'), ('field', 'NN'), ('.', '.'), ('Data', 'NNP'), ('science', 'NN'), ('jobs', 'NNS'), ('are', 'VBP'), ('high', 'JJ'), ('in', 'IN'), ('demand', 'NN'), ('.', '.')]\n",
      "18.43863606452942\n"
     ]
    }
   ],
   "source": [
    "print(tagged_seq)\n",
    "print(difference)"
   ]
  },
  {
   "cell_type": "markdown",
   "metadata": {},
   "source": [
    "## 3.6. Deep Learning Based Taggers"
   ]
  },
  {
   "cell_type": "markdown",
   "metadata": {},
   "source": [
    "### Divide data in words (X) and tags (Y)"
   ]
  },
  {
   "cell_type": "code",
   "execution_count": 53,
   "metadata": {},
   "outputs": [],
   "source": [
    "X = [] # store input sequence\n",
    "Y = [] # store output sequence\n",
    "\n",
    "for sentence in wsj:\n",
    "    X_sentence = []\n",
    "    Y_sentence = []\n",
    "    for (word, tag) in sentence:         \n",
    "        X_sentence.append(word)  \n",
    "        Y_sentence.append(tag)  \n",
    "        \n",
    "    X.append(X_sentence)\n",
    "    Y.append(Y_sentence)"
   ]
  },
  {
   "cell_type": "markdown",
   "metadata": {},
   "source": [
    "### Vectorise X and Y"
   ]
  },
  {
   "cell_type": "code",
   "execution_count": 54,
   "metadata": {},
   "outputs": [
    {
     "name": "stdout",
     "output_type": "stream",
     "text": [
      "** Raw data point ** \n",
      " ------------------------------------------------------------------------------------------------------------------- \n",
      "\n",
      "X:  ['Pierre', 'Vinken', ',', '61', 'years', 'old', ',', 'will', 'join', 'the', 'board', 'as', 'a', 'nonexecutive', 'director', 'Nov.', '29', '.'] \n",
      "\n",
      "Y:  ['NNP', 'NNP', ',', 'CD', 'NNS', 'JJ', ',', 'MD', 'VB', 'DT', 'NN', 'IN', 'DT', 'JJ', 'NN', 'NNP', 'CD', '.'] \n",
      "\n",
      "\n",
      "** Encoded data point ** \n",
      " ------------------------------------------------------------------------------------------------------------------- \n",
      "\n",
      "X:  [5601, 3746, 1, 2024, 86, 331, 1, 46, 2405, 2, 131, 27, 6, 2025, 332, 459, 2026, 3] \n",
      "\n",
      "Y:  [3, 3, 8, 10, 6, 7, 8, 21, 13, 4, 1, 2, 4, 7, 1, 3, 10, 9] \n",
      "\n"
     ]
    }
   ],
   "source": [
    "# encode X\n",
    "word_tokenizer = Tokenizer()              # instantiate tokeniser\n",
    "word_tokenizer.fit_on_texts(X)            # fit tokeniser on data\n",
    "# use the tokeniser to encode input sequence\n",
    "X_encoded = word_tokenizer.texts_to_sequences(X)  \n",
    "\n",
    "# encode Y\n",
    "tag_tokenizer = Tokenizer()\n",
    "tag_tokenizer.fit_on_texts(Y)\n",
    "Y_encoded = tag_tokenizer.texts_to_sequences(Y)\n",
    "\n",
    "# look at first encoded data point\n",
    "print(\"** Raw data point **\", \"\\n\", \"-\"*115, \"\\n\")\n",
    "print('X: ', X[0], '\\n')\n",
    "print('Y: ', Y[0], '\\n')\n",
    "print()\n",
    "print(\"** Encoded data point **\", \"\\n\", \"-\"*115, \"\\n\")\n",
    "print('X: ', X_encoded[0], '\\n')\n",
    "print('Y: ', Y_encoded[0], '\\n')"
   ]
  },
  {
   "cell_type": "markdown",
   "metadata": {},
   "source": [
    "### Pad sequences"
   ]
  },
  {
   "cell_type": "code",
   "execution_count": 55,
   "metadata": {
    "scrolled": true
   },
   "outputs": [
    {
     "name": "stdout",
     "output_type": "stream",
     "text": [
      "[   0    0    0    0    0    0    0    0    0    0    0    0    0    0\n",
      "    0    0    0    0    0    0    0    0    0    0    0    0    0    0\n",
      "    0    0    0    0    0    0    0    0    0    0    0    0    0    0\n",
      "    0    0    0    0    0    0    0    0    0    0    0    0    0    0\n",
      "    0    0    0    0    0    0    0    0    0    0    0    0    0    0\n",
      "    0    0    0    0    0    0    0    0    0    0    0    0 5601 3746\n",
      "    1 2024   86  331    1   46 2405    2  131   27    6 2025  332  459\n",
      " 2026    3] \n",
      "\n",
      "\n",
      "\n",
      "[ 0  0  0  0  0  0  0  0  0  0  0  0  0  0  0  0  0  0  0  0  0  0  0  0\n",
      "  0  0  0  0  0  0  0  0  0  0  0  0  0  0  0  0  0  0  0  0  0  0  0  0\n",
      "  0  0  0  0  0  0  0  0  0  0  0  0  0  0  0  0  0  0  0  0  0  0  0  0\n",
      "  0  0  0  0  0  0  0  0  0  0  3  3  8 10  6  7  8 21 13  4  1  2  4  7\n",
      "  1  3 10  9]\n"
     ]
    }
   ],
   "source": [
    "# Pad each sequence to MAX_SEQ_LENGTH using KERAS’ pad_sequences() function. \n",
    "# Sentences longer than MAX_SEQ_LENGTH are truncated.\n",
    "# Sentences shorter than MAX_SEQ_LENGTH are padded with zeroes.\n",
    "# Truncation and padding can either be ‘pre’ or ‘post’. \n",
    "# For padding we are using ‘pre’ padding type, that is, add zeroes on the left side.\n",
    "# For truncation, we are using ‘post’, that is, truncate a sentence from right side.\n",
    "# sequences greater than 100 in length will be truncated\n",
    "MAX_SEQ_LENGTH = 100\n",
    "X_padded = pad_sequences(X_encoded, maxlen=MAX_SEQ_LENGTH, padding=\"pre\", truncating=\"post\")\n",
    "Y_padded = pad_sequences(Y_encoded, maxlen=MAX_SEQ_LENGTH, padding=\"pre\", truncating=\"post\")\n",
    "# print the first sequence\n",
    "print(X_padded[0], \"\\n\"*3)\n",
    "print(Y_padded[0])"
   ]
  },
  {
   "cell_type": "code",
   "execution_count": 56,
   "metadata": {},
   "outputs": [],
   "source": [
    "# assign padded sequences to X and Y\n",
    "X, Y = X_padded, Y_padded"
   ]
  },
  {
   "cell_type": "markdown",
   "metadata": {},
   "source": [
    "### Word embeddings"
   ]
  },
  {
   "cell_type": "code",
   "execution_count": 57,
   "metadata": {},
   "outputs": [],
   "source": [
    "# word2vec\n",
    "path = 'GoogleNews-vectors-negative300.bin'\n",
    "# load word2vec using the following function present in the gensim library\n",
    "word2vec = KeyedVectors.load_word2vec_format(path, binary=True)\n",
    "# assign word vectors from word2vec model\n",
    "# each word in word2vec model is represented using a 300 dimensional vector\n",
    "EMBEDDING_SIZE  = 300  \n",
    "VOCABULARY_SIZE = len(word_tokenizer.word_index) + 1\n",
    "# create an empty embedding matix\n",
    "embedding_weights = np.zeros((VOCABULARY_SIZE, EMBEDDING_SIZE))\n",
    "# create a word to index dictionary mapping\n",
    "word2id = word_tokenizer.word_index\n",
    "# copy vectors from word2vec model to the words present in corpus\n",
    "for word, index in word2id.items():\n",
    "    try:\n",
    "        embedding_weights[index, :] = word2vec[word]\n",
    "    except KeyError:\n",
    "        pass"
   ]
  },
  {
   "cell_type": "markdown",
   "metadata": {},
   "source": [
    "### Use one-hot encoding for output sequences (Y)"
   ]
  },
  {
   "cell_type": "code",
   "execution_count": 58,
   "metadata": {},
   "outputs": [],
   "source": [
    "# use Keras’ to_categorical function to one-hot encode Y\n",
    "Y = to_categorical(Y)"
   ]
  },
  {
   "cell_type": "code",
   "execution_count": 59,
   "metadata": {},
   "outputs": [
    {
     "name": "stdout",
     "output_type": "stream",
     "text": [
      "(3914, 100, 47)\n"
     ]
    }
   ],
   "source": [
    "# print Y of the first output sequqnce\n",
    "print(Y.shape)"
   ]
  },
  {
   "cell_type": "markdown",
   "metadata": {},
   "source": [
    "### Split data in training, validation and tesing sets"
   ]
  },
  {
   "cell_type": "code",
   "execution_count": 60,
   "metadata": {},
   "outputs": [],
   "source": [
    "# split entire data into training and testing sets\n",
    "X_train, X_test, Y_train, Y_test = train_test_split(X, Y, test_size=0.2, random_state=4)\n",
    "\n",
    "# split training data into training and validation sets\n",
    "X_train, X_validation, Y_train, Y_validation = train_test_split(X_train, Y_train, test_size=0.2, random_state=4)"
   ]
  },
  {
   "cell_type": "code",
   "execution_count": 61,
   "metadata": {},
   "outputs": [
    {
     "name": "stdout",
     "output_type": "stream",
     "text": [
      "TRAINING DATA\n",
      "Shape of input sequences: (2504, 100)\n",
      "Shape of output sequences: (2504, 100, 47)\n",
      "--------------------------------------------------\n",
      "VALIDATION DATA\n",
      "Shape of input sequences: (627, 100)\n",
      "Shape of output sequences: (627, 100, 47)\n",
      "--------------------------------------------------\n",
      "TESTING DATA\n",
      "Shape of input sequences: (783, 100)\n",
      "Shape of output sequences: (783, 100, 47)\n"
     ]
    }
   ],
   "source": [
    "# print number of samples in each set\n",
    "print(\"TRAINING DATA\")\n",
    "print('Shape of input sequences: {}'.format(X_train.shape))\n",
    "print('Shape of output sequences: {}'.format(Y_train.shape))\n",
    "print(\"-\"*50)\n",
    "print(\"VALIDATION DATA\")\n",
    "print('Shape of input sequences: {}'.format(X_validation.shape))\n",
    "print('Shape of output sequences: {}'.format(Y_validation.shape))\n",
    "print(\"-\"*50)\n",
    "print(\"TESTING DATA\")\n",
    "print('Shape of input sequences: {}'.format(X_test.shape))\n",
    "print('Shape of output sequences: {}'.format(Y_test.shape))"
   ]
  },
  {
   "cell_type": "markdown",
   "metadata": {},
   "source": [
    "### Vanilla RNN"
   ]
  },
  {
   "cell_type": "code",
   "execution_count": 62,
   "metadata": {},
   "outputs": [],
   "source": [
    "# total number of tags\n",
    "NUM_CLASSES = Y.shape[2]"
   ]
  },
  {
   "cell_type": "code",
   "execution_count": 63,
   "metadata": {},
   "outputs": [
    {
     "name": "stderr",
     "output_type": "stream",
     "text": [
      "2023-05-29 21:04:32.999985: I tensorflow/core/platform/cpu_feature_guard.cc:193] This TensorFlow binary is optimized with oneAPI Deep Neural Network Library (oneDNN) to use the following CPU instructions in performance-critical operations:  AVX2 FMA\n",
      "To enable them in other operations, rebuild TensorFlow with the appropriate compiler flags.\n"
     ]
    }
   ],
   "source": [
    "# create architecture\n",
    "\n",
    "rnn_model = Sequential()\n",
    "\n",
    "# create embedding layer - usually the first layer in text problems\n",
    "rnn_model.add(Embedding(input_dim     =  VOCABULARY_SIZE,         # vocabulary size - number of unique words in data\n",
    "                        output_dim    =  EMBEDDING_SIZE,          # length of vector with which each word is represented\n",
    "                        input_length  =  MAX_SEQ_LENGTH,          # length of input sequence\n",
    "                        trainable     =  False                    # False - don't update the embeddings\n",
    "))\n",
    "\n",
    "# add an RNN layer which contains 64 RNN cells\n",
    "rnn_model.add(SimpleRNN(64, \n",
    "              return_sequences=True  # True - return whole sequence; False - return single output of the end of the sequence\n",
    "))\n",
    "\n",
    "# add time distributed (output at each sequence) layer\n",
    "rnn_model.add(TimeDistributed(Dense(NUM_CLASSES, activation='softmax')))"
   ]
  },
  {
   "cell_type": "code",
   "execution_count": 64,
   "metadata": {},
   "outputs": [],
   "source": [
    "rnn_model.compile(loss      =  'categorical_crossentropy',\n",
    "                  optimizer =  'adam',\n",
    "                  metrics   =  ['acc'])"
   ]
  },
  {
   "cell_type": "code",
   "execution_count": 65,
   "metadata": {},
   "outputs": [
    {
     "name": "stdout",
     "output_type": "stream",
     "text": [
      "Model: \"sequential\"\n",
      "_________________________________________________________________\n",
      " Layer (type)                Output Shape              Param #   \n",
      "=================================================================\n",
      " embedding (Embedding)       (None, 100, 300)          3416400   \n",
      "                                                                 \n",
      " simple_rnn (SimpleRNN)      (None, 100, 64)           23360     \n",
      "                                                                 \n",
      " time_distributed (TimeDistr  (None, 100, 47)          3055      \n",
      " ibuted)                                                         \n",
      "                                                                 \n",
      "=================================================================\n",
      "Total params: 3,442,815\n",
      "Trainable params: 26,415\n",
      "Non-trainable params: 3,416,400\n",
      "_________________________________________________________________\n"
     ]
    }
   ],
   "source": [
    "# check summary of the model\n",
    "rnn_model.summary()"
   ]
  },
  {
   "cell_type": "code",
   "execution_count": 66,
   "metadata": {},
   "outputs": [
    {
     "name": "stdout",
     "output_type": "stream",
     "text": [
      "Epoch 1/10\n",
      "20/20 [==============================] - 5s 145ms/step - loss: 2.4617 - acc: 0.6617 - val_loss: 1.4421 - val_acc: 0.7475\n",
      "Epoch 2/10\n",
      "20/20 [==============================] - 2s 103ms/step - loss: 1.2181 - acc: 0.7437 - val_loss: 1.0255 - val_acc: 0.7560\n",
      "Epoch 3/10\n",
      "20/20 [==============================] - 2s 115ms/step - loss: 0.9887 - acc: 0.7647 - val_loss: 0.9213 - val_acc: 0.7762\n",
      "Epoch 4/10\n",
      "20/20 [==============================] - 2s 113ms/step - loss: 0.9145 - acc: 0.7715 - val_loss: 0.8728 - val_acc: 0.7773\n",
      "Epoch 5/10\n",
      "20/20 [==============================] - 2s 102ms/step - loss: 0.8774 - acc: 0.7726 - val_loss: 0.8457 - val_acc: 0.7774\n",
      "Epoch 6/10\n",
      "20/20 [==============================] - 2s 99ms/step - loss: 0.8539 - acc: 0.7730 - val_loss: 0.8257 - val_acc: 0.7785\n",
      "Epoch 7/10\n",
      "20/20 [==============================] - 2s 106ms/step - loss: 0.8354 - acc: 0.7738 - val_loss: 0.8081 - val_acc: 0.7787\n",
      "Epoch 8/10\n",
      "20/20 [==============================] - 2s 105ms/step - loss: 0.8192 - acc: 0.7745 - val_loss: 0.7927 - val_acc: 0.7796\n",
      "Epoch 9/10\n",
      "20/20 [==============================] - 2s 115ms/step - loss: 0.8034 - acc: 0.7772 - val_loss: 0.7825 - val_acc: 0.7850\n",
      "Epoch 10/10\n",
      "20/20 [==============================] - 2s 107ms/step - loss: 0.8553 - acc: 0.7827 - val_loss: 0.7829 - val_acc: 0.7931\n"
     ]
    }
   ],
   "source": [
    "rnn_training = rnn_model.fit(X_train, Y_train, batch_size=128, epochs=10, validation_data=(X_validation, Y_validation))"
   ]
  },
  {
   "cell_type": "code",
   "execution_count": 67,
   "metadata": {},
   "outputs": [
    {
     "data": {
      "image/png": "[encoded data removed]",
      "text/plain": [
       "<Figure size 432x288 with 1 Axes>"
      ]
     },
     "metadata": {
      "needs_background": "light"
     },
     "output_type": "display_data"
    }
   ],
   "source": [
    "# visualise training history\n",
    "plt.plot(rnn_training.history['acc'])\n",
    "plt.plot(rnn_training.history['val_acc'])\n",
    "plt.title('model accuracy')\n",
    "plt.ylabel('accuracy')\n",
    "plt.xlabel('epoch')\n",
    "plt.legend(['train', 'test'], loc=\"lower right\")\n",
    "plt.show()"
   ]
  },
  {
   "cell_type": "markdown",
   "metadata": {},
   "source": [
    "### Uninitialised trainable embeddings"
   ]
  },
  {
   "cell_type": "code",
   "execution_count": 68,
   "metadata": {},
   "outputs": [],
   "source": [
    "# create architecture\n",
    "\n",
    "rnn_model = Sequential()\n",
    "\n",
    "# create embedding layer - usually the first layer in text problems\n",
    "rnn_model.add(Embedding(input_dim     =  VOCABULARY_SIZE,         # vocabulary size - number of unique words in data\n",
    "                        output_dim    =  EMBEDDING_SIZE,          # length of vector with which each word is represented\n",
    "                        input_length  =  MAX_SEQ_LENGTH,          # length of input sequence\n",
    "                        trainable     =  True                     # True - update the embeddings while training\n",
    "))\n",
    "\n",
    "# add an RNN layer which contains 64 RNN cells\n",
    "rnn_model.add(SimpleRNN(64, \n",
    "              return_sequences=True  # True - return whole sequence; False - return single output of the end of the sequence\n",
    "))\n",
    "\n",
    "# add time distributed (output at each sequence) layer\n",
    "rnn_model.add(TimeDistributed(Dense(NUM_CLASSES, activation='softmax')))"
   ]
  },
  {
   "cell_type": "code",
   "execution_count": 69,
   "metadata": {},
   "outputs": [],
   "source": [
    "rnn_model.compile(loss      =  'categorical_crossentropy',\n",
    "                  optimizer =  'adam',\n",
    "                  metrics   =  ['acc'])"
   ]
  },
  {
   "cell_type": "code",
   "execution_count": 70,
   "metadata": {},
   "outputs": [
    {
     "name": "stdout",
     "output_type": "stream",
     "text": [
      "Model: \"sequential_1\"\n",
      "_________________________________________________________________\n",
      " Layer (type)                Output Shape              Param #   \n",
      "=================================================================\n",
      " embedding_1 (Embedding)     (None, 100, 300)          3416400   \n",
      "                                                                 \n",
      " simple_rnn_1 (SimpleRNN)    (None, 100, 64)           23360     \n",
      "                                                                 \n",
      " time_distributed_1 (TimeDis  (None, 100, 47)          3055      \n",
      " tributed)                                                       \n",
      "                                                                 \n",
      "=================================================================\n",
      "Total params: 3,442,815\n",
      "Trainable params: 3,442,815\n",
      "Non-trainable params: 0\n",
      "_________________________________________________________________\n"
     ]
    }
   ],
   "source": [
    "# check summary of the model\n",
    "rnn_model.summary()"
   ]
  },
  {
   "cell_type": "code",
   "execution_count": 71,
   "metadata": {},
   "outputs": [
    {
     "name": "stdout",
     "output_type": "stream",
     "text": [
      "Epoch 1/10\n",
      "20/20 [==============================] - 6s 206ms/step - loss: 2.2299 - acc: 0.6646 - val_loss: 1.2596 - val_acc: 0.7475\n",
      "Epoch 2/10\n",
      "20/20 [==============================] - 3s 166ms/step - loss: 1.0928 - acc: 0.7510 - val_loss: 0.9364 - val_acc: 0.7778\n",
      "Epoch 3/10\n",
      "20/20 [==============================] - 4s 208ms/step - loss: 0.8756 - acc: 0.7937 - val_loss: 0.7952 - val_acc: 0.8264\n",
      "Epoch 4/10\n",
      "20/20 [==============================] - 4s 219ms/step - loss: 0.7478 - acc: 0.8463 - val_loss: 0.6872 - val_acc: 0.8589\n",
      "Epoch 5/10\n",
      "20/20 [==============================] - 4s 189ms/step - loss: 0.6364 - acc: 0.8723 - val_loss: 0.5824 - val_acc: 0.8780\n",
      "Epoch 6/10\n",
      "20/20 [==============================] - 4s 202ms/step - loss: 0.5264 - acc: 0.8933 - val_loss: 0.4828 - val_acc: 0.8957\n",
      "Epoch 7/10\n",
      "20/20 [==============================] - 4s 201ms/step - loss: 0.4273 - acc: 0.9168 - val_loss: 0.3982 - val_acc: 0.9185\n",
      "Epoch 8/10\n",
      "20/20 [==============================] - 3s 166ms/step - loss: 0.3449 - acc: 0.9371 - val_loss: 0.3298 - val_acc: 0.9349\n",
      "Epoch 9/10\n",
      "20/20 [==============================] - 3s 169ms/step - loss: 0.2772 - acc: 0.9529 - val_loss: 0.2754 - val_acc: 0.9473\n",
      "Epoch 10/10\n",
      "20/20 [==============================] - 5s 266ms/step - loss: 0.2227 - acc: 0.9651 - val_loss: 0.2327 - val_acc: 0.9562\n"
     ]
    }
   ],
   "source": [
    "rnn_training = rnn_model.fit(X_train, Y_train, batch_size=128, epochs=10, validation_data=(X_validation, Y_validation))"
   ]
  },
  {
   "cell_type": "code",
   "execution_count": 72,
   "metadata": {
    "scrolled": false
   },
   "outputs": [
    {
     "data": {
      "image/png": "[encoded data removed]",
      "text/plain": [
       "<Figure size 432x288 with 1 Axes>"
      ]
     },
     "metadata": {
      "needs_background": "light"
     },
     "output_type": "display_data"
    }
   ],
   "source": [
    "# visualise training history\n",
    "plt.plot(rnn_training.history['acc'])\n",
    "plt.plot(rnn_training.history['val_acc'])\n",
    "plt.title('model accuracy')\n",
    "plt.ylabel('accuracy')\n",
    "plt.xlabel('epoch')\n",
    "plt.legend(['train', 'test'], loc=\"lower right\")\n",
    "plt.show()"
   ]
  },
  {
   "cell_type": "markdown",
   "metadata": {},
   "source": [
    "### Using pre-trained embedding weights"
   ]
  },
  {
   "cell_type": "code",
   "execution_count": 73,
   "metadata": {},
   "outputs": [],
   "source": [
    "# create architecture\n",
    "\n",
    "rnn_model = Sequential()\n",
    "\n",
    "# create embedding layer - usually the first layer in text problems\n",
    "rnn_model.add(Embedding(input_dim     =  VOCABULARY_SIZE,         # vocabulary size - number of unique words in data\n",
    "                        output_dim    =  EMBEDDING_SIZE,          # length of vector with which each word is represented\n",
    "                        input_length  =  MAX_SEQ_LENGTH,          # length of input sequence\n",
    "                        weights       = [embedding_weights],      # word embedding matrix\n",
    "                        trainable     =  True                     # True - update the embeddings while training\n",
    "))\n",
    "\n",
    "# add an RNN layer which contains 64 RNN cells\n",
    "rnn_model.add(SimpleRNN(64, \n",
    "              return_sequences=True  # True - return whole sequence; False - return single output of the end of the sequence\n",
    "))\n",
    "\n",
    "# add time distributed (output at each sequence) layer\n",
    "rnn_model.add(TimeDistributed(Dense(NUM_CLASSES, activation='softmax')))"
   ]
  },
  {
   "cell_type": "code",
   "execution_count": 74,
   "metadata": {},
   "outputs": [],
   "source": [
    "rnn_model.compile(loss      =  'categorical_crossentropy',\n",
    "                  optimizer =  'adam',\n",
    "                  metrics   =  ['acc'])"
   ]
  },
  {
   "cell_type": "code",
   "execution_count": 75,
   "metadata": {
    "scrolled": true
   },
   "outputs": [
    {
     "name": "stdout",
     "output_type": "stream",
     "text": [
      "Model: \"sequential_2\"\n",
      "_________________________________________________________________\n",
      " Layer (type)                Output Shape              Param #   \n",
      "=================================================================\n",
      " embedding_2 (Embedding)     (None, 100, 300)          3416400   \n",
      "                                                                 \n",
      " simple_rnn_2 (SimpleRNN)    (None, 100, 64)           23360     \n",
      "                                                                 \n",
      " time_distributed_2 (TimeDis  (None, 100, 47)          3055      \n",
      " tributed)                                                       \n",
      "                                                                 \n",
      "=================================================================\n",
      "Total params: 3,442,815\n",
      "Trainable params: 3,442,815\n",
      "Non-trainable params: 0\n",
      "_________________________________________________________________\n"
     ]
    }
   ],
   "source": [
    "# check summary of the model\n",
    "rnn_model.summary()"
   ]
  },
  {
   "cell_type": "code",
   "execution_count": 76,
   "metadata": {
    "scrolled": true
   },
   "outputs": [
    {
     "name": "stdout",
     "output_type": "stream",
     "text": [
      "Epoch 1/10\n",
      "20/20 [==============================] - 6s 236ms/step - loss: 2.4778 - acc: 0.7356 - val_loss: 1.2670 - val_acc: 0.7547\n",
      "Epoch 2/10\n",
      "20/20 [==============================] - 4s 192ms/step - loss: 1.0860 - acc: 0.7748 - val_loss: 0.9075 - val_acc: 0.8223\n",
      "Epoch 3/10\n",
      "20/20 [==============================] - 4s 200ms/step - loss: 0.8185 - acc: 0.8438 - val_loss: 0.7103 - val_acc: 0.8639\n",
      "Epoch 4/10\n",
      "20/20 [==============================] - 5s 235ms/step - loss: 0.6323 - acc: 0.8804 - val_loss: 0.5417 - val_acc: 0.8939\n",
      "Epoch 5/10\n",
      "20/20 [==============================] - 4s 218ms/step - loss: 0.4706 - acc: 0.9113 - val_loss: 0.4056 - val_acc: 0.9241\n",
      "Epoch 6/10\n",
      "20/20 [==============================] - 5s 229ms/step - loss: 0.3467 - acc: 0.9396 - val_loss: 0.3097 - val_acc: 0.9452\n",
      "Epoch 7/10\n",
      "20/20 [==============================] - 4s 199ms/step - loss: 0.2599 - acc: 0.9585 - val_loss: 0.2434 - val_acc: 0.9576\n",
      "Epoch 8/10\n",
      "20/20 [==============================] - 3s 163ms/step - loss: 0.1985 - acc: 0.9712 - val_loss: 0.1977 - val_acc: 0.9662\n",
      "Epoch 9/10\n",
      "20/20 [==============================] - 3s 163ms/step - loss: 0.1550 - acc: 0.9783 - val_loss: 0.1658 - val_acc: 0.9704\n",
      "Epoch 10/10\n",
      "20/20 [==============================] - 4s 177ms/step - loss: 0.1239 - acc: 0.9826 - val_loss: 0.1428 - val_acc: 0.9739\n"
     ]
    }
   ],
   "source": [
    "rnn_training = rnn_model.fit(X_train, Y_train, batch_size=128, epochs=10, validation_data=(X_validation, Y_validation))"
   ]
  },
  {
   "cell_type": "code",
   "execution_count": 77,
   "metadata": {},
   "outputs": [
    {
     "data": {
      "image/png": "[encoded data removed]",
      "text/plain": [
       "<Figure size 432x288 with 1 Axes>"
      ]
     },
     "metadata": {
      "needs_background": "light"
     },
     "output_type": "display_data"
    }
   ],
   "source": [
    "# visualise training history\n",
    "plt.plot(rnn_training.history['acc'])\n",
    "plt.plot(rnn_training.history['val_acc'])\n",
    "plt.title('model accuracy')\n",
    "plt.ylabel('accuracy')\n",
    "plt.xlabel('epoch')\n",
    "plt.legend(['train', 'test'], loc=\"lower right\")\n",
    "plt.show()"
   ]
  },
  {
   "cell_type": "code",
   "execution_count": 78,
   "metadata": {},
   "outputs": [
    {
     "name": "stdout",
     "output_type": "stream",
     "text": [
      "25/25 [==============================] - 1s 19ms/step - loss: 0.1446 - acc: 0.9735\n",
      "Loss: 0.14459678530693054,\n",
      "Accuracy: 0.9735121130943298\n"
     ]
    }
   ],
   "source": [
    "loss, accuracy = rnn_model.evaluate(X_test, Y_test, verbose = 1)\n",
    "print(\"Loss: {0},\\nAccuracy: {1}\".format(loss, accuracy))"
   ]
  },
  {
   "cell_type": "markdown",
   "metadata": {},
   "source": [
    "### LSTM"
   ]
  },
  {
   "cell_type": "code",
   "execution_count": 79,
   "metadata": {},
   "outputs": [],
   "source": [
    "# create architecture\n",
    "\n",
    "lstm_model = Sequential()\n",
    "lstm_model.add(Embedding(input_dim     = VOCABULARY_SIZE,         # vocabulary size - number of unique words in data\n",
    "                         output_dim    = EMBEDDING_SIZE,          # length of vector with which each word is represented\n",
    "                         input_length  = MAX_SEQ_LENGTH,          # length of input sequence\n",
    "                         weights       = [embedding_weights],     # word embedding matrix\n",
    "                         trainable     = True                     # True - update embeddings_weight matrix\n",
    "))\n",
    "lstm_model.add(LSTM(64, return_sequences=True))\n",
    "lstm_model.add(TimeDistributed(Dense(NUM_CLASSES, activation='softmax')))"
   ]
  },
  {
   "cell_type": "code",
   "execution_count": 80,
   "metadata": {},
   "outputs": [],
   "source": [
    "lstm_model.compile(loss      =  'categorical_crossentropy',\n",
    "                   optimizer =  'adam',\n",
    "                   metrics   =  ['acc'])"
   ]
  },
  {
   "cell_type": "code",
   "execution_count": 81,
   "metadata": {
    "scrolled": true
   },
   "outputs": [
    {
     "name": "stdout",
     "output_type": "stream",
     "text": [
      "Model: \"sequential_3\"\n",
      "_________________________________________________________________\n",
      " Layer (type)                Output Shape              Param #   \n",
      "=================================================================\n",
      " embedding_3 (Embedding)     (None, 100, 300)          3416400   \n",
      "                                                                 \n",
      " lstm (LSTM)                 (None, 100, 64)           93440     \n",
      "                                                                 \n",
      " time_distributed_3 (TimeDis  (None, 100, 47)          3055      \n",
      " tributed)                                                       \n",
      "                                                                 \n",
      "=================================================================\n",
      "Total params: 3,512,895\n",
      "Trainable params: 3,512,895\n",
      "Non-trainable params: 0\n",
      "_________________________________________________________________\n"
     ]
    }
   ],
   "source": [
    "# check summary of the model\n",
    "lstm_model.summary()"
   ]
  },
  {
   "cell_type": "code",
   "execution_count": 82,
   "metadata": {},
   "outputs": [
    {
     "name": "stdout",
     "output_type": "stream",
     "text": [
      "Epoch 1/20\n",
      "20/20 [==============================] - 8s 287ms/step - loss: 2.9844 - acc: 0.7540 - val_loss: 1.5468 - val_acc: 0.7475\n",
      "Epoch 2/20\n",
      "20/20 [==============================] - 5s 256ms/step - loss: 1.2843 - acc: 0.7459 - val_loss: 1.0468 - val_acc: 0.7602\n",
      "Epoch 3/20\n",
      "20/20 [==============================] - 5s 255ms/step - loss: 0.9904 - acc: 0.7626 - val_loss: 0.8987 - val_acc: 0.7742\n",
      "Epoch 4/20\n",
      "20/20 [==============================] - 5s 254ms/step - loss: 0.8759 - acc: 0.7771 - val_loss: 0.8217 - val_acc: 0.7856\n",
      "Epoch 5/20\n",
      "20/20 [==============================] - 5s 255ms/step - loss: 0.8095 - acc: 0.7880 - val_loss: 0.7674 - val_acc: 0.7984\n",
      "Epoch 6/20\n",
      "20/20 [==============================] - 5s 256ms/step - loss: 0.7566 - acc: 0.8077 - val_loss: 0.7154 - val_acc: 0.8303\n",
      "Epoch 7/20\n",
      "20/20 [==============================] - 5s 253ms/step - loss: 0.6984 - acc: 0.8417 - val_loss: 0.6524 - val_acc: 0.8555\n",
      "Epoch 8/20\n",
      "20/20 [==============================] - 5s 262ms/step - loss: 0.6258 - acc: 0.8606 - val_loss: 0.5761 - val_acc: 0.8733\n",
      "Epoch 9/20\n",
      "20/20 [==============================] - 5s 256ms/step - loss: 0.5421 - acc: 0.8837 - val_loss: 0.4944 - val_acc: 0.8928\n",
      "Epoch 10/20\n",
      "20/20 [==============================] - 7s 346ms/step - loss: 0.4551 - acc: 0.9070 - val_loss: 0.4156 - val_acc: 0.9160\n",
      "Epoch 11/20\n",
      "20/20 [==============================] - 7s 349ms/step - loss: 0.3755 - acc: 0.9315 - val_loss: 0.3483 - val_acc: 0.9332\n",
      "Epoch 12/20\n",
      "20/20 [==============================] - 6s 312ms/step - loss: 0.3093 - acc: 0.9472 - val_loss: 0.2925 - val_acc: 0.9474\n",
      "Epoch 13/20\n",
      "20/20 [==============================] - 5s 262ms/step - loss: 0.2543 - acc: 0.9584 - val_loss: 0.2485 - val_acc: 0.9530\n",
      "Epoch 14/20\n",
      "20/20 [==============================] - 6s 290ms/step - loss: 0.2113 - acc: 0.9640 - val_loss: 0.2143 - val_acc: 0.9577\n",
      "Epoch 15/20\n",
      "20/20 [==============================] - 6s 320ms/step - loss: 0.1775 - acc: 0.9703 - val_loss: 0.1883 - val_acc: 0.9640\n",
      "Epoch 16/20\n",
      "20/20 [==============================] - 5s 267ms/step - loss: 0.1514 - acc: 0.9768 - val_loss: 0.1681 - val_acc: 0.9686\n",
      "Epoch 17/20\n",
      "20/20 [==============================] - 6s 299ms/step - loss: 0.1307 - acc: 0.9804 - val_loss: 0.1518 - val_acc: 0.9716\n",
      "Epoch 18/20\n",
      "20/20 [==============================] - 6s 289ms/step - loss: 0.1141 - acc: 0.9829 - val_loss: 0.1388 - val_acc: 0.9733\n",
      "Epoch 19/20\n",
      "20/20 [==============================] - 6s 283ms/step - loss: 0.1007 - acc: 0.9845 - val_loss: 0.1285 - val_acc: 0.9748\n",
      "Epoch 20/20\n",
      "20/20 [==============================] - 5s 273ms/step - loss: 0.0899 - acc: 0.9857 - val_loss: 0.1201 - val_acc: 0.9755\n"
     ]
    }
   ],
   "source": [
    "lstm_training = lstm_model.fit(X_train, Y_train, batch_size=128, epochs=20, validation_data=(X_validation, Y_validation))"
   ]
  },
  {
   "cell_type": "code",
   "execution_count": 83,
   "metadata": {},
   "outputs": [
    {
     "data": {
      "image/png": "[encoded data removed]",
      "text/plain": [
       "<Figure size 432x288 with 1 Axes>"
      ]
     },
     "metadata": {
      "needs_background": "light"
     },
     "output_type": "display_data"
    }
   ],
   "source": [
    "# visualise training history\n",
    "plt.plot(lstm_training.history['acc'])\n",
    "plt.plot(lstm_training.history['val_acc'])\n",
    "plt.title('model accuracy')\n",
    "plt.ylabel('accuracy')\n",
    "plt.xlabel('epoch')\n",
    "plt.legend(['train', 'test'], loc=\"lower right\")\n",
    "plt.show()"
   ]
  },
  {
   "cell_type": "code",
   "execution_count": 84,
   "metadata": {},
   "outputs": [
    {
     "name": "stdout",
     "output_type": "stream",
     "text": [
      "25/25 [==============================] - 1s 29ms/step - loss: 0.1204 - acc: 0.9755\n",
      "Loss: 0.1204322949051857,\n",
      "Accuracy: 0.9754661321640015\n"
     ]
    }
   ],
   "source": [
    "loss, accuracy = lstm_model.evaluate(X_test, Y_test, verbose = 1)\n",
    "print(\"Loss: {0},\\nAccuracy: {1}\".format(loss, accuracy))"
   ]
  },
  {
   "cell_type": "markdown",
   "metadata": {},
   "source": [
    "### GRU"
   ]
  },
  {
   "cell_type": "code",
   "execution_count": 85,
   "metadata": {},
   "outputs": [],
   "source": [
    "# create architecture\n",
    "\n",
    "gru_model = Sequential()\n",
    "gru_model.add(Embedding(input_dim     = VOCABULARY_SIZE,\n",
    "                        output_dim    = EMBEDDING_SIZE,\n",
    "                        input_length  = MAX_SEQ_LENGTH,\n",
    "                        weights       = [embedding_weights],\n",
    "                        trainable     = True\n",
    "))\n",
    "gru_model.add(GRU(64, return_sequences=True))\n",
    "gru_model.add(TimeDistributed(Dense(NUM_CLASSES, activation='softmax')))"
   ]
  },
  {
   "cell_type": "code",
   "execution_count": 86,
   "metadata": {},
   "outputs": [],
   "source": [
    "gru_model.compile(loss='categorical_crossentropy',\n",
    "              optimizer='adam',\n",
    "              metrics=['acc'])"
   ]
  },
  {
   "cell_type": "code",
   "execution_count": 87,
   "metadata": {},
   "outputs": [
    {
     "name": "stdout",
     "output_type": "stream",
     "text": [
      "Model: \"sequential_4\"\n",
      "_________________________________________________________________\n",
      " Layer (type)                Output Shape              Param #   \n",
      "=================================================================\n",
      " embedding_4 (Embedding)     (None, 100, 300)          3416400   \n",
      "                                                                 \n",
      " gru (GRU)                   (None, 100, 64)           70272     \n",
      "                                                                 \n",
      " time_distributed_4 (TimeDis  (None, 100, 47)          3055      \n",
      " tributed)                                                       \n",
      "                                                                 \n",
      "=================================================================\n",
      "Total params: 3,489,727\n",
      "Trainable params: 3,489,727\n",
      "Non-trainable params: 0\n",
      "_________________________________________________________________\n"
     ]
    }
   ],
   "source": [
    "# check summary of model\n",
    "gru_model.summary()"
   ]
  },
  {
   "cell_type": "code",
   "execution_count": 88,
   "metadata": {},
   "outputs": [
    {
     "name": "stdout",
     "output_type": "stream",
     "text": [
      "Epoch 1/10\n",
      "20/20 [==============================] - 7s 265ms/step - loss: 3.2296 - acc: 0.7852 - val_loss: 1.5276 - val_acc: 0.7895\n",
      "Epoch 2/10\n",
      "20/20 [==============================] - 5s 253ms/step - loss: 1.0579 - acc: 0.7898 - val_loss: 0.8823 - val_acc: 0.8153\n",
      "Epoch 3/10\n",
      "20/20 [==============================] - 6s 287ms/step - loss: 0.8144 - acc: 0.8147 - val_loss: 0.7245 - val_acc: 0.8099\n",
      "Epoch 4/10\n",
      "20/20 [==============================] - 5s 262ms/step - loss: 0.6816 - acc: 0.8295 - val_loss: 0.6099 - val_acc: 0.8661\n",
      "Epoch 5/10\n",
      "20/20 [==============================] - 5s 231ms/step - loss: 0.5524 - acc: 0.8922 - val_loss: 0.4781 - val_acc: 0.9097\n",
      "Epoch 6/10\n",
      "20/20 [==============================] - 5s 231ms/step - loss: 0.4141 - acc: 0.9249 - val_loss: 0.3548 - val_acc: 0.9345\n",
      "Epoch 7/10\n",
      "20/20 [==============================] - 6s 307ms/step - loss: 0.2993 - acc: 0.9487 - val_loss: 0.2661 - val_acc: 0.9531\n",
      "Epoch 8/10\n",
      "20/20 [==============================] - 5s 266ms/step - loss: 0.2192 - acc: 0.9650 - val_loss: 0.2079 - val_acc: 0.9625\n",
      "Epoch 9/10\n",
      "20/20 [==============================] - 5s 248ms/step - loss: 0.1652 - acc: 0.9740 - val_loss: 0.1695 - val_acc: 0.9678\n",
      "Epoch 10/10\n",
      "20/20 [==============================] - 5s 245ms/step - loss: 0.1285 - acc: 0.9799 - val_loss: 0.1438 - val_acc: 0.9717\n"
     ]
    }
   ],
   "source": [
    "gru_training = gru_model.fit(X_train, Y_train, batch_size=128, epochs=10, validation_data=(X_validation, Y_validation))"
   ]
  },
  {
   "cell_type": "code",
   "execution_count": 89,
   "metadata": {},
   "outputs": [
    {
     "data": {
      "image/png": "[encoded data removed]",
      "text/plain": [
       "<Figure size 432x288 with 1 Axes>"
      ]
     },
     "metadata": {
      "needs_background": "light"
     },
     "output_type": "display_data"
    }
   ],
   "source": [
    "# visualise training history\n",
    "plt.plot(gru_training.history['acc'])\n",
    "plt.plot(gru_training.history['val_acc'])\n",
    "plt.title('model accuracy')\n",
    "plt.ylabel('accuracy')\n",
    "plt.xlabel('epoch')\n",
    "plt.legend(['train', 'test'], loc=\"lower right\")\n",
    "plt.show()"
   ]
  },
  {
   "cell_type": "code",
   "execution_count": 90,
   "metadata": {},
   "outputs": [
    {
     "name": "stdout",
     "output_type": "stream",
     "text": [
      "25/25 [==============================] - 1s 21ms/step - loss: 0.1453 - acc: 0.9709\n",
      "Loss: 0.1453438252210617,\n",
      "Accuracy: 0.970855712890625\n"
     ]
    }
   ],
   "source": [
    "loss, accuracy = gru_model.evaluate(X_test, Y_test, verbose = 1)\n",
    "print(\"Loss: {0},\\nAccuracy: {1}\".format(loss, accuracy))"
   ]
  },
  {
   "cell_type": "markdown",
   "metadata": {},
   "source": [
    "### Bidirectional LSTM"
   ]
  },
  {
   "cell_type": "code",
   "execution_count": 91,
   "metadata": {},
   "outputs": [
    {
     "name": "stdout",
     "output_type": "stream",
     "text": [
      "Model: \"sequential_5\"\n",
      "_________________________________________________________________\n",
      " Layer (type)                Output Shape              Param #   \n",
      "=================================================================\n",
      " embedding_5 (Embedding)     (None, 100, 300)          3416400   \n",
      "                                                                 \n",
      " bidirectional (Bidirectiona  (None, 100, 128)         186880    \n",
      " l)                                                              \n",
      "                                                                 \n",
      " time_distributed_5 (TimeDis  (None, 100, 47)          6063      \n",
      " tributed)                                                       \n",
      "                                                                 \n",
      "=================================================================\n",
      "Total params: 3,609,343\n",
      "Trainable params: 3,609,343\n",
      "Non-trainable params: 0\n",
      "_________________________________________________________________\n"
     ]
    }
   ],
   "source": [
    "# create architecture\n",
    "bidirect_model = Sequential()\n",
    "bidirect_model.add(Embedding(input_dim = VOCABULARY_SIZE,\n",
    " output_dim = EMBEDDING_SIZE,\n",
    " input_length = MAX_SEQ_LENGTH,\n",
    " weights = [embedding_weights],\n",
    " trainable = True\n",
    "))\n",
    "bidirect_model.add(Bidirectional(LSTM(64, return_sequences=True)))\n",
    "bidirect_model.add(TimeDistributed(Dense(NUM_CLASSES, activation='softmax')))\n",
    "#compile model\n",
    "bidirect_model.compile(loss='categorical_crossentropy',\n",
    "              optimizer='adam',\n",
    "              metrics=['acc'])\n",
    "# check summary of model\n",
    "bidirect_model.summary()"
   ]
  },
  {
   "cell_type": "code",
   "execution_count": 92,
   "metadata": {},
   "outputs": [
    {
     "name": "stdout",
     "output_type": "stream",
     "text": [
      "Epoch 1/10\n",
      "20/20 [==============================] - 15s 565ms/step - loss: 2.7681 - acc: 0.7203 - val_loss: 1.1495 - val_acc: 0.7475\n",
      "Epoch 2/10\n",
      "20/20 [==============================] - 12s 587ms/step - loss: 0.9194 - acc: 0.7688 - val_loss: 0.8066 - val_acc: 0.7819\n",
      "Epoch 3/10\n",
      "20/20 [==============================] - 8s 412ms/step - loss: 0.7909 - acc: 0.7824 - val_loss: 0.7451 - val_acc: 0.8083\n",
      "Epoch 4/10\n",
      "20/20 [==============================] - 8s 400ms/step - loss: 0.7400 - acc: 0.8111 - val_loss: 0.7004 - val_acc: 0.8232\n",
      "Epoch 5/10\n",
      "20/20 [==============================] - 8s 398ms/step - loss: 0.6913 - acc: 0.8309 - val_loss: 0.6465 - val_acc: 0.8459\n",
      "Epoch 6/10\n",
      "20/20 [==============================] - 8s 402ms/step - loss: 0.6263 - acc: 0.8523 - val_loss: 0.5731 - val_acc: 0.8673\n",
      "Epoch 7/10\n",
      "20/20 [==============================] - 8s 400ms/step - loss: 0.5384 - acc: 0.8773 - val_loss: 0.4798 - val_acc: 0.8918\n",
      "Epoch 8/10\n",
      "20/20 [==============================] - 8s 422ms/step - loss: 0.4358 - acc: 0.9070 - val_loss: 0.3827 - val_acc: 0.9206\n",
      "Epoch 9/10\n",
      "20/20 [==============================] - 10s 496ms/step - loss: 0.3385 - acc: 0.9341 - val_loss: 0.2999 - val_acc: 0.9400\n",
      "Epoch 10/10\n",
      "20/20 [==============================] - 8s 404ms/step - loss: 0.2588 - acc: 0.9552 - val_loss: 0.2366 - val_acc: 0.9571\n"
     ]
    }
   ],
   "source": [
    "bidirect_training = bidirect_model.fit(X_train, Y_train, batch_size=128, epochs=10, validation_data=(X_validation, Y_validation))"
   ]
  },
  {
   "cell_type": "code",
   "execution_count": 93,
   "metadata": {},
   "outputs": [
    {
     "name": "stdout",
     "output_type": "stream",
     "text": [
      "25/25 [==============================] - 1s 48ms/step - loss: 0.2411 - acc: 0.9555\n",
      "Loss: 0.24108107388019562,\n",
      "Accuracy: 0.9554661512374878\n"
     ]
    }
   ],
   "source": [
    "loss, accuracy = bidirect_model.evaluate(X_test, Y_test, verbose = 1)\n",
    "print(\"Loss: {0},\\nAccuracy: {1}\".format(loss, accuracy))"
   ]
  },
  {
   "cell_type": "code",
   "execution_count": null,
   "metadata": {},
   "outputs": [],
   "source": []
  }
 ],
 "metadata": {
  "kernelspec": {
   "display_name": "Python 3 (ipykernel)",
   "language": "python",
   "name": "python3"
  },
  "language_info": {
   "codemirror_mode": {
    "name": "ipython",
    "version": 3
   },
   "file_extension": ".py",
   "mimetype": "text/x-python",
   "name": "python",
   "nbconvert_exporter": "python",
   "pygments_lexer": "ipython3",
   "version": "3.8.12"
  }
 },
 "nbformat": 4,
 "nbformat_minor": 2
}
